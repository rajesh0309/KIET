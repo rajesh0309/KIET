{
  "nbformat": 4,
  "nbformat_minor": 0,
  "metadata": {
    "colab": {
      "provenance": [],
      "include_colab_link": true
    },
    "kernelspec": {
      "name": "python3",
      "display_name": "Python 3"
    },
    "language_info": {
      "name": "python"
    }
  },
  "cells": [
    {
      "cell_type": "markdown",
      "metadata": {
        "id": "view-in-github",
        "colab_type": "text"
      },
      "source": [
        "<a href=\"https://colab.research.google.com/github/rajesh0309/KIET/blob/main/STOCK_MARKET_03_04_23.ipynb\" target=\"_parent\"><img src=\"https://colab.research.google.com/assets/colab-badge.svg\" alt=\"Open In Colab\"/></a>"
      ]
    },
    {
      "cell_type": "markdown",
      "source": [
        "DJIA-table"
      ],
      "metadata": {
        "id": "0E6oZMARhPtX"
      }
    },
    {
      "cell_type": "code",
      "execution_count": null,
      "metadata": {
        "id": "ajbtjzQeeL1n"
      },
      "outputs": [],
      "source": [
        "import pandas as pd\n",
        "import numpy as np\n",
        "import matplotlib.pyplot as plt"
      ]
    },
    {
      "cell_type": "code",
      "source": [
        "from google.colab import drive\n",
        "drive.mount('/content/HDFC.csv')"
      ],
      "metadata": {
        "id": "ng7KM4aXnAOa"
      },
      "execution_count": null,
      "outputs": []
    },
    {
      "cell_type": "code",
      "source": [
        "df=pd.read_csv(\"/content/upload_DJIA_table.csv\")\n",
        "df.head()"
      ],
      "metadata": {
        "colab": {
          "base_uri": "https://localhost:8080/",
          "height": 206
        },
        "id": "C8glVZTTqN0N",
        "outputId": "e5a11b11-5ee7-43ac-9f9e-a23ccdbb1f9f"
      },
      "execution_count": null,
      "outputs": [
        {
          "output_type": "execute_result",
          "data": {
            "text/plain": [
              "         Date          Open          High           Low         Close  \\\n",
              "0  2016-07-01  17924.240234  18002.380859  17916.910156  17949.369141   \n",
              "1  2016-06-30  17712.759766  17930.609375  17711.800781  17929.990234   \n",
              "2  2016-06-29  17456.019531  17704.509766  17456.019531  17694.679688   \n",
              "3  2016-06-28  17190.509766  17409.720703  17190.509766  17409.720703   \n",
              "4  2016-06-27  17355.210938  17355.210938  17063.080078  17140.240234   \n",
              "\n",
              "      Volume     Adj Close  \n",
              "0   82160000  17949.369141  \n",
              "1  133030000  17929.990234  \n",
              "2  106380000  17694.679688  \n",
              "3  112190000  17409.720703  \n",
              "4  138740000  17140.240234  "
            ],
            "text/html": [
              "\n",
              "  <div id=\"df-89ae8f87-43bc-4396-9ab0-aa0d6e46202c\">\n",
              "    <div class=\"colab-df-container\">\n",
              "      <div>\n",
              "<style scoped>\n",
              "    .dataframe tbody tr th:only-of-type {\n",
              "        vertical-align: middle;\n",
              "    }\n",
              "\n",
              "    .dataframe tbody tr th {\n",
              "        vertical-align: top;\n",
              "    }\n",
              "\n",
              "    .dataframe thead th {\n",
              "        text-align: right;\n",
              "    }\n",
              "</style>\n",
              "<table border=\"1\" class=\"dataframe\">\n",
              "  <thead>\n",
              "    <tr style=\"text-align: right;\">\n",
              "      <th></th>\n",
              "      <th>Date</th>\n",
              "      <th>Open</th>\n",
              "      <th>High</th>\n",
              "      <th>Low</th>\n",
              "      <th>Close</th>\n",
              "      <th>Volume</th>\n",
              "      <th>Adj Close</th>\n",
              "    </tr>\n",
              "  </thead>\n",
              "  <tbody>\n",
              "    <tr>\n",
              "      <th>0</th>\n",
              "      <td>2016-07-01</td>\n",
              "      <td>17924.240234</td>\n",
              "      <td>18002.380859</td>\n",
              "      <td>17916.910156</td>\n",
              "      <td>17949.369141</td>\n",
              "      <td>82160000</td>\n",
              "      <td>17949.369141</td>\n",
              "    </tr>\n",
              "    <tr>\n",
              "      <th>1</th>\n",
              "      <td>2016-06-30</td>\n",
              "      <td>17712.759766</td>\n",
              "      <td>17930.609375</td>\n",
              "      <td>17711.800781</td>\n",
              "      <td>17929.990234</td>\n",
              "      <td>133030000</td>\n",
              "      <td>17929.990234</td>\n",
              "    </tr>\n",
              "    <tr>\n",
              "      <th>2</th>\n",
              "      <td>2016-06-29</td>\n",
              "      <td>17456.019531</td>\n",
              "      <td>17704.509766</td>\n",
              "      <td>17456.019531</td>\n",
              "      <td>17694.679688</td>\n",
              "      <td>106380000</td>\n",
              "      <td>17694.679688</td>\n",
              "    </tr>\n",
              "    <tr>\n",
              "      <th>3</th>\n",
              "      <td>2016-06-28</td>\n",
              "      <td>17190.509766</td>\n",
              "      <td>17409.720703</td>\n",
              "      <td>17190.509766</td>\n",
              "      <td>17409.720703</td>\n",
              "      <td>112190000</td>\n",
              "      <td>17409.720703</td>\n",
              "    </tr>\n",
              "    <tr>\n",
              "      <th>4</th>\n",
              "      <td>2016-06-27</td>\n",
              "      <td>17355.210938</td>\n",
              "      <td>17355.210938</td>\n",
              "      <td>17063.080078</td>\n",
              "      <td>17140.240234</td>\n",
              "      <td>138740000</td>\n",
              "      <td>17140.240234</td>\n",
              "    </tr>\n",
              "  </tbody>\n",
              "</table>\n",
              "</div>\n",
              "      <button class=\"colab-df-convert\" onclick=\"convertToInteractive('df-89ae8f87-43bc-4396-9ab0-aa0d6e46202c')\"\n",
              "              title=\"Convert this dataframe to an interactive table.\"\n",
              "              style=\"display:none;\">\n",
              "        \n",
              "  <svg xmlns=\"http://www.w3.org/2000/svg\" height=\"24px\"viewBox=\"0 0 24 24\"\n",
              "       width=\"24px\">\n",
              "    <path d=\"M0 0h24v24H0V0z\" fill=\"none\"/>\n",
              "    <path d=\"M18.56 5.44l.94 2.06.94-2.06 2.06-.94-2.06-.94-.94-2.06-.94 2.06-2.06.94zm-11 1L8.5 8.5l.94-2.06 2.06-.94-2.06-.94L8.5 2.5l-.94 2.06-2.06.94zm10 10l.94 2.06.94-2.06 2.06-.94-2.06-.94-.94-2.06-.94 2.06-2.06.94z\"/><path d=\"M17.41 7.96l-1.37-1.37c-.4-.4-.92-.59-1.43-.59-.52 0-1.04.2-1.43.59L10.3 9.45l-7.72 7.72c-.78.78-.78 2.05 0 2.83L4 21.41c.39.39.9.59 1.41.59.51 0 1.02-.2 1.41-.59l7.78-7.78 2.81-2.81c.8-.78.8-2.07 0-2.86zM5.41 20L4 18.59l7.72-7.72 1.47 1.35L5.41 20z\"/>\n",
              "  </svg>\n",
              "      </button>\n",
              "      \n",
              "  <style>\n",
              "    .colab-df-container {\n",
              "      display:flex;\n",
              "      flex-wrap:wrap;\n",
              "      gap: 12px;\n",
              "    }\n",
              "\n",
              "    .colab-df-convert {\n",
              "      background-color: #E8F0FE;\n",
              "      border: none;\n",
              "      border-radius: 50%;\n",
              "      cursor: pointer;\n",
              "      display: none;\n",
              "      fill: #1967D2;\n",
              "      height: 32px;\n",
              "      padding: 0 0 0 0;\n",
              "      width: 32px;\n",
              "    }\n",
              "\n",
              "    .colab-df-convert:hover {\n",
              "      background-color: #E2EBFA;\n",
              "      box-shadow: 0px 1px 2px rgba(60, 64, 67, 0.3), 0px 1px 3px 1px rgba(60, 64, 67, 0.15);\n",
              "      fill: #174EA6;\n",
              "    }\n",
              "\n",
              "    [theme=dark] .colab-df-convert {\n",
              "      background-color: #3B4455;\n",
              "      fill: #D2E3FC;\n",
              "    }\n",
              "\n",
              "    [theme=dark] .colab-df-convert:hover {\n",
              "      background-color: #434B5C;\n",
              "      box-shadow: 0px 1px 3px 1px rgba(0, 0, 0, 0.15);\n",
              "      filter: drop-shadow(0px 1px 2px rgba(0, 0, 0, 0.3));\n",
              "      fill: #FFFFFF;\n",
              "    }\n",
              "  </style>\n",
              "\n",
              "      <script>\n",
              "        const buttonEl =\n",
              "          document.querySelector('#df-89ae8f87-43bc-4396-9ab0-aa0d6e46202c button.colab-df-convert');\n",
              "        buttonEl.style.display =\n",
              "          google.colab.kernel.accessAllowed ? 'block' : 'none';\n",
              "\n",
              "        async function convertToInteractive(key) {\n",
              "          const element = document.querySelector('#df-89ae8f87-43bc-4396-9ab0-aa0d6e46202c');\n",
              "          const dataTable =\n",
              "            await google.colab.kernel.invokeFunction('convertToInteractive',\n",
              "                                                     [key], {});\n",
              "          if (!dataTable) return;\n",
              "\n",
              "          const docLinkHtml = 'Like what you see? Visit the ' +\n",
              "            '<a target=\"_blank\" href=https://colab.research.google.com/notebooks/data_table.ipynb>data table notebook</a>'\n",
              "            + ' to learn more about interactive tables.';\n",
              "          element.innerHTML = '';\n",
              "          dataTable['output_type'] = 'display_data';\n",
              "          await google.colab.output.renderOutput(dataTable, element);\n",
              "          const docLink = document.createElement('div');\n",
              "          docLink.innerHTML = docLinkHtml;\n",
              "          element.appendChild(docLink);\n",
              "        }\n",
              "      </script>\n",
              "    </div>\n",
              "  </div>\n",
              "  "
            ]
          },
          "metadata": {},
          "execution_count": 8
        }
      ]
    },
    {
      "cell_type": "code",
      "source": [
        "df.shape"
      ],
      "metadata": {
        "colab": {
          "base_uri": "https://localhost:8080/"
        },
        "id": "npu_x_gqqNgN",
        "outputId": "940ea4ee-230d-4511-f115-a08d79b545e9"
      },
      "execution_count": null,
      "outputs": [
        {
          "output_type": "execute_result",
          "data": {
            "text/plain": [
              "(1989, 7)"
            ]
          },
          "metadata": {},
          "execution_count": 9
        }
      ]
    },
    {
      "cell_type": "markdown",
      "source": [],
      "metadata": {
        "id": "NGKmbTrcomxk"
      }
    },
    {
      "cell_type": "code",
      "source": [
        "df.info()"
      ],
      "metadata": {
        "colab": {
          "base_uri": "https://localhost:8080/"
        },
        "id": "llZt4ferqrIy",
        "outputId": "4684a09f-fb13-4a07-fa48-a4af826b3039"
      },
      "execution_count": null,
      "outputs": [
        {
          "output_type": "stream",
          "name": "stdout",
          "text": [
            "<class 'pandas.core.frame.DataFrame'>\n",
            "RangeIndex: 1989 entries, 0 to 1988\n",
            "Data columns (total 7 columns):\n",
            " #   Column     Non-Null Count  Dtype  \n",
            "---  ------     --------------  -----  \n",
            " 0   Date       1989 non-null   object \n",
            " 1   Open       1989 non-null   float64\n",
            " 2   High       1989 non-null   float64\n",
            " 3   Low        1989 non-null   float64\n",
            " 4   Close      1989 non-null   float64\n",
            " 5   Volume     1989 non-null   int64  \n",
            " 6   Adj Close  1989 non-null   float64\n",
            "dtypes: float64(5), int64(1), object(1)\n",
            "memory usage: 108.9+ KB\n"
          ]
        }
      ]
    },
    {
      "cell_type": "code",
      "source": [
        "df.info"
      ],
      "metadata": {
        "colab": {
          "base_uri": "https://localhost:8080/"
        },
        "id": "eBPiByBRqrEk",
        "outputId": "28fdac94-e8e3-49c5-d6aa-e25ff79dc395"
      },
      "execution_count": null,
      "outputs": [
        {
          "output_type": "execute_result",
          "data": {
            "text/plain": [
              "<bound method DataFrame.info of             Date          Open          High           Low         Close  \\\n",
              "0     2016-07-01  17924.240234  18002.380859  17916.910156  17949.369141   \n",
              "1     2016-06-30  17712.759766  17930.609375  17711.800781  17929.990234   \n",
              "2     2016-06-29  17456.019531  17704.509766  17456.019531  17694.679688   \n",
              "3     2016-06-28  17190.509766  17409.720703  17190.509766  17409.720703   \n",
              "4     2016-06-27  17355.210938  17355.210938  17063.080078  17140.240234   \n",
              "...          ...           ...           ...           ...           ...   \n",
              "1984  2008-08-14  11532.070312  11718.280273  11450.889648  11615.929688   \n",
              "1985  2008-08-13  11632.809570  11633.780273  11453.339844  11532.959961   \n",
              "1986  2008-08-12  11781.700195  11782.349609  11601.519531  11642.469727   \n",
              "1987  2008-08-11  11729.669922  11867.110352  11675.530273  11782.349609   \n",
              "1988  2008-08-08  11432.089844  11759.959961  11388.040039  11734.320312   \n",
              "\n",
              "         Volume     Adj Close  \n",
              "0      82160000  17949.369141  \n",
              "1     133030000  17929.990234  \n",
              "2     106380000  17694.679688  \n",
              "3     112190000  17409.720703  \n",
              "4     138740000  17140.240234  \n",
              "...         ...           ...  \n",
              "1984  159790000  11615.929688  \n",
              "1985  182550000  11532.959961  \n",
              "1986  173590000  11642.469727  \n",
              "1987  183190000  11782.349609  \n",
              "1988  212830000  11734.320312  \n",
              "\n",
              "[1989 rows x 7 columns]>"
            ]
          },
          "metadata": {},
          "execution_count": 11
        }
      ]
    },
    {
      "cell_type": "code",
      "source": [
        "df.isnull().sum()"
      ],
      "metadata": {
        "colab": {
          "base_uri": "https://localhost:8080/"
        },
        "id": "n8Gty1yJqrBr",
        "outputId": "bb56d7f5-c81a-43d2-d5dd-ae8ebb1423b6"
      },
      "execution_count": null,
      "outputs": [
        {
          "output_type": "execute_result",
          "data": {
            "text/plain": [
              "Date         0\n",
              "Open         0\n",
              "High         0\n",
              "Low          0\n",
              "Close        0\n",
              "Volume       0\n",
              "Adj Close    0\n",
              "dtype: int64"
            ]
          },
          "metadata": {},
          "execution_count": 12
        }
      ]
    },
    {
      "cell_type": "code",
      "source": [
        "df.describe"
      ],
      "metadata": {
        "colab": {
          "base_uri": "https://localhost:8080/"
        },
        "id": "iUv5SKyaq8A3",
        "outputId": "5d111937-a76c-4998-a39d-4c17a95bf901"
      },
      "execution_count": null,
      "outputs": [
        {
          "output_type": "execute_result",
          "data": {
            "text/plain": [
              "<bound method NDFrame.describe of             Date          Open          High           Low         Close  \\\n",
              "0     2016-07-01  17924.240234  18002.380859  17916.910156  17949.369141   \n",
              "1     2016-06-30  17712.759766  17930.609375  17711.800781  17929.990234   \n",
              "2     2016-06-29  17456.019531  17704.509766  17456.019531  17694.679688   \n",
              "3     2016-06-28  17190.509766  17409.720703  17190.509766  17409.720703   \n",
              "4     2016-06-27  17355.210938  17355.210938  17063.080078  17140.240234   \n",
              "...          ...           ...           ...           ...           ...   \n",
              "1984  2008-08-14  11532.070312  11718.280273  11450.889648  11615.929688   \n",
              "1985  2008-08-13  11632.809570  11633.780273  11453.339844  11532.959961   \n",
              "1986  2008-08-12  11781.700195  11782.349609  11601.519531  11642.469727   \n",
              "1987  2008-08-11  11729.669922  11867.110352  11675.530273  11782.349609   \n",
              "1988  2008-08-08  11432.089844  11759.959961  11388.040039  11734.320312   \n",
              "\n",
              "         Volume     Adj Close  \n",
              "0      82160000  17949.369141  \n",
              "1     133030000  17929.990234  \n",
              "2     106380000  17694.679688  \n",
              "3     112190000  17409.720703  \n",
              "4     138740000  17140.240234  \n",
              "...         ...           ...  \n",
              "1984  159790000  11615.929688  \n",
              "1985  182550000  11532.959961  \n",
              "1986  173590000  11642.469727  \n",
              "1987  183190000  11782.349609  \n",
              "1988  212830000  11734.320312  \n",
              "\n",
              "[1989 rows x 7 columns]>"
            ]
          },
          "metadata": {},
          "execution_count": 13
        }
      ]
    },
    {
      "cell_type": "code",
      "source": [
        "x=df['Low'].values"
      ],
      "metadata": {
        "id": "XB6FNbGmrClp"
      },
      "execution_count": null,
      "outputs": []
    },
    {
      "cell_type": "code",
      "source": [
        "y=df['High'].values"
      ],
      "metadata": {
        "id": "xpv7gI40rChp"
      },
      "execution_count": null,
      "outputs": []
    },
    {
      "cell_type": "code",
      "source": [
        "plt.scatter(x,y,color=\"black\",label=\"plotting\")\n",
        "plt.title(\"plottig the graph\")\n",
        "plt.xlabel(\"Low\")\n",
        "plt.ylabel(\"High\")\n",
        "plt.legend(loc=7)\n",
        "plt.show()"
      ],
      "metadata": {
        "colab": {
          "base_uri": "https://localhost:8080/",
          "height": 472
        },
        "id": "IuMUwdihrCeo",
        "outputId": "6c206fb8-80bb-4035-f4a2-55e8fb26194c"
      },
      "execution_count": null,
      "outputs": [
        {
          "output_type": "display_data",
          "data": {
            "text/plain": [
              "<Figure size 640x480 with 1 Axes>"
            ],
            "image/png": "[encoded data removed]"
          },
          "metadata": {}
        }
      ]
    },
    {
      "cell_type": "code",
      "source": [
        "print(x.shape)\n",
        "print(y.shape)"
      ],
      "metadata": {
        "colab": {
          "base_uri": "https://localhost:8080/"
        },
        "id": "q6HfVf1RuuuQ",
        "outputId": "2631ed97-d77e-4411-a74c-f080f52ccf33"
      },
      "execution_count": null,
      "outputs": [
        {
          "output_type": "stream",
          "name": "stdout",
          "text": [
            "(1989,)\n",
            "(1989,)\n"
          ]
        }
      ]
    },
    {
      "cell_type": "code",
      "source": [
        "x=x.reshape(-1,1)\n",
        "y=y.reshape(-1,1)"
      ],
      "metadata": {
        "id": "u-0ywwFwuuRp"
      },
      "execution_count": null,
      "outputs": []
    },
    {
      "cell_type": "code",
      "source": [
        "print(x.shape)\n",
        "print(y.shape)"
      ],
      "metadata": {
        "colab": {
          "base_uri": "https://localhost:8080/"
        },
        "id": "gwV0fVUx3CvY",
        "outputId": "836e29f7-67b2-49bf-92f8-17e1c4b01ca9"
      },
      "execution_count": null,
      "outputs": [
        {
          "output_type": "stream",
          "name": "stdout",
          "text": [
            "(1989, 1)\n",
            "(1989, 1)\n"
          ]
        }
      ]
    },
    {
      "cell_type": "code",
      "source": [
        "from sklearn.model_selection import train_test_split\n",
        "x_train,x_test,y_train,y_test= train_test_split(x,y,test_size=0.3,random_state=1)"
      ],
      "metadata": {
        "id": "L3cl-HlG3DjA"
      },
      "execution_count": null,
      "outputs": []
    },
    {
      "cell_type": "code",
      "source": [
        "print(x_train.shape)\n",
        "print(x_test.shape)\n",
        "print(y_train.shape)\n",
        "print(y_test.shape)"
      ],
      "metadata": {
        "colab": {
          "base_uri": "https://localhost:8080/"
        },
        "id": "Ltpyz--q3LsP",
        "outputId": "7ce17d28-de78-4def-f234-f76d1e798380"
      },
      "execution_count": null,
      "outputs": [
        {
          "output_type": "stream",
          "name": "stdout",
          "text": [
            "(1392, 1)\n",
            "(597, 1)\n",
            "(1392, 1)\n",
            "(597, 1)\n"
          ]
        }
      ]
    },
    {
      "cell_type": "code",
      "source": [
        "from sklearn.linear_model import LinearRegression\n",
        "lm=LinearRegression()\n",
        "lm.fit(x_train,y_train)\n",
        "y_pred=lm.predict(x_test)"
      ],
      "metadata": {
        "id": "bCvyHFBu3RnT"
      },
      "execution_count": null,
      "outputs": []
    },
    {
      "cell_type": "code",
      "source": [
        "a=lm.coef_\n",
        "b=lm.intercept_\n",
        "print(\"slope value \",a)\n",
        "print(\"intercept value \",b)"
      ],
      "metadata": {
        "colab": {
          "base_uri": "https://localhost:8080/"
        },
        "id": "Jnw3Bh3s3TSz",
        "outputId": "7a1efb0d-e0e5-4903-9d57-a1370226346f"
      },
      "execution_count": null,
      "outputs": [
        {
          "output_type": "stream",
          "name": "stdout",
          "text": [
            "slope value  [[0.9954393]]\n",
            "intercept value  [230.86746263]\n"
          ]
        }
      ]
    },
    {
      "cell_type": "code",
      "source": [
        "from sklearn.metrics import mean_squared_error\n",
        "mse=mean_squared_error(y_test,y_pred)\n",
        "rmse=np.sqrt(mse)\n",
        "print(\"error {:.4f}\".format(rmse))"
      ],
      "metadata": {
        "colab": {
          "base_uri": "https://localhost:8080/"
        },
        "id": "nTSEcYYH3mOu",
        "outputId": "924f5f29-a8c9-4d46-9381-ace1225f715f"
      },
      "execution_count": null,
      "outputs": [
        {
          "output_type": "stream",
          "name": "stdout",
          "text": [
            "error 104.2160\n"
          ]
        }
      ]
    },
    {
      "cell_type": "code",
      "source": [
        "from sklearn.metrics import r2_score\n",
        "print(\"r2 score value {:.4f}\".format(r2_score(y_test,y_pred)))"
      ],
      "metadata": {
        "colab": {
          "base_uri": "https://localhost:8080/"
        },
        "id": "mMktDYId3qu7",
        "outputId": "181b7dbd-8d58-405b-92df-99dcd1c35b28"
      },
      "execution_count": null,
      "outputs": [
        {
          "output_type": "stream",
          "name": "stdout",
          "text": [
            "r2 score value 0.9989\n"
          ]
        }
      ]
    },
    {
      "cell_type": "code",
      "source": [
        "plt.scatter(x,y,color=\"orange\",label='plotting')\n",
        "plt.plot(x_test,y_pred,linewidth=3,color=\"black\")\n",
        "plt.title(\"plotting the graph\")\n",
        "plt.xlabel(\"PT08.S4(NO\")\n",
        "plt.ylabel('PT08.S5(O3')\n",
        "plt.legend(loc=4)\n",
        "plt.show()"
      ],
      "metadata": {
        "colab": {
          "base_uri": "https://localhost:8080/",
          "height": 472
        },
        "id": "BVPFS_vH31rS",
        "outputId": "d3efb59c-0045-4724-c465-c1092bca6fc7"
      },
      "execution_count": null,
      "outputs": [
        {
          "output_type": "display_data",
          "data": {
            "text/plain": [
              "<Figure size 640x480 with 1 Axes>"
            ],
            "image/png": "[encoded data removed]"
          },
          "metadata": {}
        }
      ]
    },
    {
      "cell_type": "code",
      "source": [
        "plt.scatter(lm.predict(x_train),lm.predict(x_train)-y_train,color=\"black\",label=\"train set\")\n",
        "plt.scatter(lm.predict(x_test),lm.predict(x_test)-y_test,color=\"blue\",label=\"test set\")\n",
        "plt.hlines(xmin=0,xmax=2000,y=0,linewidth=3,color=\"black\")\n",
        "plt.title(\"error\")\n",
        "plt.xlabel(\"Open\")\n",
        "plt.ylabel('Close')\n",
        "plt.legend(loc=4)\n",
        "plt.show()"
      ],
      "metadata": {
        "colab": {
          "base_uri": "https://localhost:8080/",
          "height": 472
        },
        "id": "2Am1FvWG68XR",
        "outputId": "5c719a42-0112-4d2f-f817-89bf77f31f30"
      },
      "execution_count": null,
      "outputs": [
        {
          "output_type": "display_data",
          "data": {
            "text/plain": [
              "<Figure size 640x480 with 1 Axes>"
            ],
            "image/png": "[encoded data removed]"
          },
          "metadata": {}
        }
      ]
    },
    {
      "cell_type": "code",
      "source": [
        "print(\"train data score {:.4f}\".format(lm.score(x_train,y_train)))\n",
        "print(\"test data score {:.4f}\".format(lm.score(x_test,y_test)))"
      ],
      "metadata": {
        "colab": {
          "base_uri": "https://localhost:8080/"
        },
        "id": "L870mDSSnh8c",
        "outputId": "3b685849-66c9-4555-de32-3cb2f4ee6a21"
      },
      "execution_count": null,
      "outputs": [
        {
          "output_type": "stream",
          "name": "stdout",
          "text": [
            "train data score 0.9987\n",
            "test data score 0.9989\n"
          ]
        }
      ]
    },
    {
      "cell_type": "markdown",
      "source": [
        "# AXISBANK"
      ],
      "metadata": {
        "id": "I7ouhiJzccDu"
      }
    },
    {
      "cell_type": "code",
      "source": [
        "import pandas as pd\n",
        "import numpy as np\n",
        "import matplotlib.pyplot as plt"
      ],
      "metadata": {
        "id": "mPEtGF9Eo-vr"
      },
      "execution_count": null,
      "outputs": []
    },
    {
      "cell_type": "code",
      "source": [
        "df=pd.read_csv('/content/AXISBANK.csv')\n",
        "df.head()"
      ],
      "metadata": {
        "colab": {
          "base_uri": "https://localhost:8080/",
          "height": 374
        },
        "id": "b8QtwioAcUdN",
        "outputId": "2fedbfc7-3978-4456-ecef-7172291a929b"
      },
      "execution_count": null,
      "outputs": [
        {
          "output_type": "execute_result",
          "data": {
            "text/plain": [
              "         Date   Symbol Series  Prev Close  Open   High    Low  Last  Close  \\\n",
              "0  2000-01-03  UTIBANK     EQ       24.70  26.7  26.70  26.70  26.7  26.70   \n",
              "1  2000-01-04  UTIBANK     EQ       26.70  27.0  28.70  26.50  27.0  26.85   \n",
              "2  2000-01-05  UTIBANK     EQ       26.85  26.0  27.75  25.50  26.4  26.30   \n",
              "3  2000-01-06  UTIBANK     EQ       26.30  25.8  27.00  25.80  25.9  25.95   \n",
              "4  2000-01-07  UTIBANK     EQ       25.95  25.0  26.00  24.25  25.0  24.80   \n",
              "\n",
              "    VWAP  Volume      Turnover  Trades  Deliverable Volume  %Deliverble  \n",
              "0  26.70  112100  2.993070e+11     NaN                 NaN          NaN  \n",
              "1  27.24  234500  6.387275e+11     NaN                 NaN          NaN  \n",
              "2  26.24  170100  4.462980e+11     NaN                 NaN          NaN  \n",
              "3  26.27  102100  2.681730e+11     NaN                 NaN          NaN  \n",
              "4  25.04   62600  1.567220e+11     NaN                 NaN          NaN  "
            ],
            "text/html": [
              "\n",
              "  <div id=\"df-5c3ea42a-bfd7-4cee-8407-1517d274f735\">\n",
              "    <div class=\"colab-df-container\">\n",
              "      <div>\n",
              "<style scoped>\n",
              "    .dataframe tbody tr th:only-of-type {\n",
              "        vertical-align: middle;\n",
              "    }\n",
              "\n",
              "    .dataframe tbody tr th {\n",
              "        vertical-align: top;\n",
              "    }\n",
              "\n",
              "    .dataframe thead th {\n",
              "        text-align: right;\n",
              "    }\n",
              "</style>\n",
              "<table border=\"1\" class=\"dataframe\">\n",
              "  <thead>\n",
              "    <tr style=\"text-align: right;\">\n",
              "      <th></th>\n",
              "      <th>Date</th>\n",
              "      <th>Symbol</th>\n",
              "      <th>Series</th>\n",
              "      <th>Prev Close</th>\n",
              "      <th>Open</th>\n",
              "      <th>High</th>\n",
              "      <th>Low</th>\n",
              "      <th>Last</th>\n",
              "      <th>Close</th>\n",
              "      <th>VWAP</th>\n",
              "      <th>Volume</th>\n",
              "      <th>Turnover</th>\n",
              "      <th>Trades</th>\n",
              "      <th>Deliverable Volume</th>\n",
              "      <th>%Deliverble</th>\n",
              "    </tr>\n",
              "  </thead>\n",
              "  <tbody>\n",
              "    <tr>\n",
              "      <th>0</th>\n",
              "      <td>2000-01-03</td>\n",
              "      <td>UTIBANK</td>\n",
              "      <td>EQ</td>\n",
              "      <td>24.70</td>\n",
              "      <td>26.7</td>\n",
              "      <td>26.70</td>\n",
              "      <td>26.70</td>\n",
              "      <td>26.7</td>\n",
              "      <td>26.70</td>\n",
              "      <td>26.70</td>\n",
              "      <td>112100</td>\n",
              "      <td>2.993070e+11</td>\n",
              "      <td>NaN</td>\n",
              "      <td>NaN</td>\n",
              "      <td>NaN</td>\n",
              "    </tr>\n",
              "    <tr>\n",
              "      <th>1</th>\n",
              "      <td>2000-01-04</td>\n",
              "      <td>UTIBANK</td>\n",
              "      <td>EQ</td>\n",
              "      <td>26.70</td>\n",
              "      <td>27.0</td>\n",
              "      <td>28.70</td>\n",
              "      <td>26.50</td>\n",
              "      <td>27.0</td>\n",
              "      <td>26.85</td>\n",
              "      <td>27.24</td>\n",
              "      <td>234500</td>\n",
              "      <td>6.387275e+11</td>\n",
              "      <td>NaN</td>\n",
              "      <td>NaN</td>\n",
              "      <td>NaN</td>\n",
              "    </tr>\n",
              "    <tr>\n",
              "      <th>2</th>\n",
              "      <td>2000-01-05</td>\n",
              "      <td>UTIBANK</td>\n",
              "      <td>EQ</td>\n",
              "      <td>26.85</td>\n",
              "      <td>26.0</td>\n",
              "      <td>27.75</td>\n",
              "      <td>25.50</td>\n",
              "      <td>26.4</td>\n",
              "      <td>26.30</td>\n",
              "      <td>26.24</td>\n",
              "      <td>170100</td>\n",
              "      <td>4.462980e+11</td>\n",
              "      <td>NaN</td>\n",
              "      <td>NaN</td>\n",
              "      <td>NaN</td>\n",
              "    </tr>\n",
              "    <tr>\n",
              "      <th>3</th>\n",
              "      <td>2000-01-06</td>\n",
              "      <td>UTIBANK</td>\n",
              "      <td>EQ</td>\n",
              "      <td>26.30</td>\n",
              "      <td>25.8</td>\n",
              "      <td>27.00</td>\n",
              "      <td>25.80</td>\n",
              "      <td>25.9</td>\n",
              "      <td>25.95</td>\n",
              "      <td>26.27</td>\n",
              "      <td>102100</td>\n",
              "      <td>2.681730e+11</td>\n",
              "      <td>NaN</td>\n",
              "      <td>NaN</td>\n",
              "      <td>NaN</td>\n",
              "    </tr>\n",
              "    <tr>\n",
              "      <th>4</th>\n",
              "      <td>2000-01-07</td>\n",
              "      <td>UTIBANK</td>\n",
              "      <td>EQ</td>\n",
              "      <td>25.95</td>\n",
              "      <td>25.0</td>\n",
              "      <td>26.00</td>\n",
              "      <td>24.25</td>\n",
              "      <td>25.0</td>\n",
              "      <td>24.80</td>\n",
              "      <td>25.04</td>\n",
              "      <td>62600</td>\n",
              "      <td>1.567220e+11</td>\n",
              "      <td>NaN</td>\n",
              "      <td>NaN</td>\n",
              "      <td>NaN</td>\n",
              "    </tr>\n",
              "  </tbody>\n",
              "</table>\n",
              "</div>\n",
              "      <button class=\"colab-df-convert\" onclick=\"convertToInteractive('df-5c3ea42a-bfd7-4cee-8407-1517d274f735')\"\n",
              "              title=\"Convert this dataframe to an interactive table.\"\n",
              "              style=\"display:none;\">\n",
              "        \n",
              "  <svg xmlns=\"http://www.w3.org/2000/svg\" height=\"24px\"viewBox=\"0 0 24 24\"\n",
              "       width=\"24px\">\n",
              "    <path d=\"M0 0h24v24H0V0z\" fill=\"none\"/>\n",
              "    <path d=\"M18.56 5.44l.94 2.06.94-2.06 2.06-.94-2.06-.94-.94-2.06-.94 2.06-2.06.94zm-11 1L8.5 8.5l.94-2.06 2.06-.94-2.06-.94L8.5 2.5l-.94 2.06-2.06.94zm10 10l.94 2.06.94-2.06 2.06-.94-2.06-.94-.94-2.06-.94 2.06-2.06.94z\"/><path d=\"M17.41 7.96l-1.37-1.37c-.4-.4-.92-.59-1.43-.59-.52 0-1.04.2-1.43.59L10.3 9.45l-7.72 7.72c-.78.78-.78 2.05 0 2.83L4 21.41c.39.39.9.59 1.41.59.51 0 1.02-.2 1.41-.59l7.78-7.78 2.81-2.81c.8-.78.8-2.07 0-2.86zM5.41 20L4 18.59l7.72-7.72 1.47 1.35L5.41 20z\"/>\n",
              "  </svg>\n",
              "      </button>\n",
              "      \n",
              "  <style>\n",
              "    .colab-df-container {\n",
              "      display:flex;\n",
              "      flex-wrap:wrap;\n",
              "      gap: 12px;\n",
              "    }\n",
              "\n",
              "    .colab-df-convert {\n",
              "      background-color: #E8F0FE;\n",
              "      border: none;\n",
              "      border-radius: 50%;\n",
              "      cursor: pointer;\n",
              "      display: none;\n",
              "      fill: #1967D2;\n",
              "      height: 32px;\n",
              "      padding: 0 0 0 0;\n",
              "      width: 32px;\n",
              "    }\n",
              "\n",
              "    .colab-df-convert:hover {\n",
              "      background-color: #E2EBFA;\n",
              "      box-shadow: 0px 1px 2px rgba(60, 64, 67, 0.3), 0px 1px 3px 1px rgba(60, 64, 67, 0.15);\n",
              "      fill: #174EA6;\n",
              "    }\n",
              "\n",
              "    [theme=dark] .colab-df-convert {\n",
              "      background-color: #3B4455;\n",
              "      fill: #D2E3FC;\n",
              "    }\n",
              "\n",
              "    [theme=dark] .colab-df-convert:hover {\n",
              "      background-color: #434B5C;\n",
              "      box-shadow: 0px 1px 3px 1px rgba(0, 0, 0, 0.15);\n",
              "      filter: drop-shadow(0px 1px 2px rgba(0, 0, 0, 0.3));\n",
              "      fill: #FFFFFF;\n",
              "    }\n",
              "  </style>\n",
              "\n",
              "      <script>\n",
              "        const buttonEl =\n",
              "          document.querySelector('#df-5c3ea42a-bfd7-4cee-8407-1517d274f735 button.colab-df-convert');\n",
              "        buttonEl.style.display =\n",
              "          google.colab.kernel.accessAllowed ? 'block' : 'none';\n",
              "\n",
              "        async function convertToInteractive(key) {\n",
              "          const element = document.querySelector('#df-5c3ea42a-bfd7-4cee-8407-1517d274f735');\n",
              "          const dataTable =\n",
              "            await google.colab.kernel.invokeFunction('convertToInteractive',\n",
              "                                                     [key], {});\n",
              "          if (!dataTable) return;\n",
              "\n",
              "          const docLinkHtml = 'Like what you see? Visit the ' +\n",
              "            '<a target=\"_blank\" href=https://colab.research.google.com/notebooks/data_table.ipynb>data table notebook</a>'\n",
              "            + ' to learn more about interactive tables.';\n",
              "          element.innerHTML = '';\n",
              "          dataTable['output_type'] = 'display_data';\n",
              "          await google.colab.output.renderOutput(dataTable, element);\n",
              "          const docLink = document.createElement('div');\n",
              "          docLink.innerHTML = docLinkHtml;\n",
              "          element.appendChild(docLink);\n",
              "        }\n",
              "      </script>\n",
              "    </div>\n",
              "  </div>\n",
              "  "
            ]
          },
          "metadata": {},
          "execution_count": 6
        }
      ]
    },
    {
      "cell_type": "code",
      "source": [
        "df.shape"
      ],
      "metadata": {
        "colab": {
          "base_uri": "https://localhost:8080/"
        },
        "id": "PT-PfUJHfFK9",
        "outputId": "477aae7d-b897-4368-f5a0-b25618f691e5"
      },
      "execution_count": null,
      "outputs": [
        {
          "output_type": "execute_result",
          "data": {
            "text/plain": [
              "(5306, 15)"
            ]
          },
          "metadata": {},
          "execution_count": 7
        }
      ]
    },
    {
      "cell_type": "code",
      "source": [
        "df.info()"
      ],
      "metadata": {
        "colab": {
          "base_uri": "https://localhost:8080/"
        },
        "id": "MxKBQd19fFq9",
        "outputId": "79908e3a-6332-425c-9854-2a286e39b9e5"
      },
      "execution_count": null,
      "outputs": [
        {
          "output_type": "stream",
          "name": "stdout",
          "text": [
            "<class 'pandas.core.frame.DataFrame'>\n",
            "RangeIndex: 5306 entries, 0 to 5305\n",
            "Data columns (total 15 columns):\n",
            " #   Column              Non-Null Count  Dtype  \n",
            "---  ------              --------------  -----  \n",
            " 0   Date                5306 non-null   object \n",
            " 1   Symbol              5306 non-null   object \n",
            " 2   Series              5306 non-null   object \n",
            " 3   Prev Close          5306 non-null   float64\n",
            " 4   Open                5306 non-null   float64\n",
            " 5   High                5306 non-null   float64\n",
            " 6   Low                 5306 non-null   float64\n",
            " 7   Last                5306 non-null   float64\n",
            " 8   Close               5306 non-null   float64\n",
            " 9   VWAP                5306 non-null   float64\n",
            " 10  Volume              5306 non-null   int64  \n",
            " 11  Turnover            5306 non-null   float64\n",
            " 12  Trades              2456 non-null   float64\n",
            " 13  Deliverable Volume  4797 non-null   float64\n",
            " 14  %Deliverble         4797 non-null   float64\n",
            "dtypes: float64(11), int64(1), object(3)\n",
            "memory usage: 621.9+ KB\n"
          ]
        }
      ]
    },
    {
      "cell_type": "code",
      "source": [
        "df.info"
      ],
      "metadata": {
        "colab": {
          "base_uri": "https://localhost:8080/"
        },
        "id": "7hWoiGXpfGE7",
        "outputId": "1b783652-1e10-4827-95ec-c9fff6753715"
      },
      "execution_count": null,
      "outputs": [
        {
          "output_type": "execute_result",
          "data": {
            "text/plain": [
              "<bound method DataFrame.info of             Date    Symbol Series  Prev Close   Open    High     Low    Last  \\\n",
              "0     2000-01-03   UTIBANK     EQ       24.70   26.7   26.70   26.70   26.70   \n",
              "1     2000-01-04   UTIBANK     EQ       26.70   27.0   28.70   26.50   27.00   \n",
              "2     2000-01-05   UTIBANK     EQ       26.85   26.0   27.75   25.50   26.40   \n",
              "3     2000-01-06   UTIBANK     EQ       26.30   25.8   27.00   25.80   25.90   \n",
              "4     2000-01-07   UTIBANK     EQ       25.95   25.0   26.00   24.25   25.00   \n",
              "...          ...       ...    ...         ...    ...     ...     ...     ...   \n",
              "5301  2021-04-26  AXISBANK     EQ      671.35  694.0  703.80  684.50  699.50   \n",
              "5302  2021-04-27  AXISBANK     EQ      700.45  691.1  703.90  684.10  700.90   \n",
              "5303  2021-04-28  AXISBANK     EQ      699.55  708.0  712.50  688.15  705.95   \n",
              "5304  2021-04-29  AXISBANK     EQ      708.15  712.0  726.90  707.00  717.10   \n",
              "5305  2021-04-30  AXISBANK     EQ      719.40  705.0  729.85  705.00  711.65   \n",
              "\n",
              "       Close    VWAP    Volume      Turnover    Trades  Deliverable Volume  \\\n",
              "0      26.70   26.70    112100  2.993070e+11       NaN                 NaN   \n",
              "1      26.85   27.24    234500  6.387275e+11       NaN                 NaN   \n",
              "2      26.30   26.24    170100  4.462980e+11       NaN                 NaN   \n",
              "3      25.95   26.27    102100  2.681730e+11       NaN                 NaN   \n",
              "4      24.80   25.04     62600  1.567220e+11       NaN                 NaN   \n",
              "...      ...     ...       ...           ...       ...                 ...   \n",
              "5301  700.45  695.33  21646184  1.505120e+15  286480.0           5949937.0   \n",
              "5302  699.55  692.83  46559967  3.225830e+15  289445.0          18080082.0   \n",
              "5303  708.15  701.92  54060587  3.794635e+15  507747.0          17851331.0   \n",
              "5304  719.40  717.41  25939327  1.860920e+15  312079.0           7357520.0   \n",
              "5305  714.90  719.36  23011654  1.655365e+15  232879.0           6786072.0   \n",
              "\n",
              "      %Deliverble  \n",
              "0             NaN  \n",
              "1             NaN  \n",
              "2             NaN  \n",
              "3             NaN  \n",
              "4             NaN  \n",
              "...           ...  \n",
              "5301       0.2749  \n",
              "5302       0.3883  \n",
              "5303       0.3302  \n",
              "5304       0.2836  \n",
              "5305       0.2949  \n",
              "\n",
              "[5306 rows x 15 columns]>"
            ]
          },
          "metadata": {},
          "execution_count": 9
        }
      ]
    },
    {
      "cell_type": "code",
      "source": [
        "df.isnull().sum()"
      ],
      "metadata": {
        "colab": {
          "base_uri": "https://localhost:8080/"
        },
        "id": "tdZBioUTfGeP",
        "outputId": "f2a0fdf8-5905-4937-9574-0be95c4d6e98"
      },
      "execution_count": null,
      "outputs": [
        {
          "output_type": "execute_result",
          "data": {
            "text/plain": [
              "Date                     0\n",
              "Symbol                   0\n",
              "Series                   0\n",
              "Prev Close               0\n",
              "Open                     0\n",
              "High                     0\n",
              "Low                      0\n",
              "Last                     0\n",
              "Close                    0\n",
              "VWAP                     0\n",
              "Volume                   0\n",
              "Turnover                 0\n",
              "Trades                2850\n",
              "Deliverable Volume     509\n",
              "%Deliverble            509\n",
              "dtype: int64"
            ]
          },
          "metadata": {},
          "execution_count": 10
        }
      ]
    },
    {
      "cell_type": "code",
      "source": [
        "df.describe"
      ],
      "metadata": {
        "colab": {
          "base_uri": "https://localhost:8080/"
        },
        "id": "7K1xfBcAfHn_",
        "outputId": "6a80b9f5-46a2-4885-a4d7-035bb86c0b22"
      },
      "execution_count": null,
      "outputs": [
        {
          "output_type": "execute_result",
          "data": {
            "text/plain": [
              "<bound method NDFrame.describe of             Date    Symbol Series  Prev Close   Open    High     Low    Last  \\\n",
              "0     2000-01-03   UTIBANK     EQ       24.70   26.7   26.70   26.70   26.70   \n",
              "1     2000-01-04   UTIBANK     EQ       26.70   27.0   28.70   26.50   27.00   \n",
              "2     2000-01-05   UTIBANK     EQ       26.85   26.0   27.75   25.50   26.40   \n",
              "3     2000-01-06   UTIBANK     EQ       26.30   25.8   27.00   25.80   25.90   \n",
              "4     2000-01-07   UTIBANK     EQ       25.95   25.0   26.00   24.25   25.00   \n",
              "...          ...       ...    ...         ...    ...     ...     ...     ...   \n",
              "5301  2021-04-26  AXISBANK     EQ      671.35  694.0  703.80  684.50  699.50   \n",
              "5302  2021-04-27  AXISBANK     EQ      700.45  691.1  703.90  684.10  700.90   \n",
              "5303  2021-04-28  AXISBANK     EQ      699.55  708.0  712.50  688.15  705.95   \n",
              "5304  2021-04-29  AXISBANK     EQ      708.15  712.0  726.90  707.00  717.10   \n",
              "5305  2021-04-30  AXISBANK     EQ      719.40  705.0  729.85  705.00  711.65   \n",
              "\n",
              "       Close    VWAP    Volume      Turnover    Trades  Deliverable Volume  \\\n",
              "0      26.70   26.70    112100  2.993070e+11       NaN                 NaN   \n",
              "1      26.85   27.24    234500  6.387275e+11       NaN                 NaN   \n",
              "2      26.30   26.24    170100  4.462980e+11       NaN                 NaN   \n",
              "3      25.95   26.27    102100  2.681730e+11       NaN                 NaN   \n",
              "4      24.80   25.04     62600  1.567220e+11       NaN                 NaN   \n",
              "...      ...     ...       ...           ...       ...                 ...   \n",
              "5301  700.45  695.33  21646184  1.505120e+15  286480.0           5949937.0   \n",
              "5302  699.55  692.83  46559967  3.225830e+15  289445.0          18080082.0   \n",
              "5303  708.15  701.92  54060587  3.794635e+15  507747.0          17851331.0   \n",
              "5304  719.40  717.41  25939327  1.860920e+15  312079.0           7357520.0   \n",
              "5305  714.90  719.36  23011654  1.655365e+15  232879.0           6786072.0   \n",
              "\n",
              "      %Deliverble  \n",
              "0             NaN  \n",
              "1             NaN  \n",
              "2             NaN  \n",
              "3             NaN  \n",
              "4             NaN  \n",
              "...           ...  \n",
              "5301       0.2749  \n",
              "5302       0.3883  \n",
              "5303       0.3302  \n",
              "5304       0.2836  \n",
              "5305       0.2949  \n",
              "\n",
              "[5306 rows x 15 columns]>"
            ]
          },
          "metadata": {},
          "execution_count": 11
        }
      ]
    },
    {
      "cell_type": "code",
      "source": [
        "x=df['Open'].values"
      ],
      "metadata": {
        "id": "no3_sbr_fIEs"
      },
      "execution_count": null,
      "outputs": []
    },
    {
      "cell_type": "code",
      "source": [
        "y=df['Close'].values"
      ],
      "metadata": {
        "id": "BeCYwl6jfIo_"
      },
      "execution_count": null,
      "outputs": []
    },
    {
      "cell_type": "code",
      "source": [
        "plt.scatter(x,y,color=\"green\",label='plotting')\n",
        "plt.title(\"plotting the graph\")\n",
        "plt.xlabel(\"Open\")\n",
        "plt.ylabel('Close')\n",
        "plt.legend(loc=4)\n",
        "plt.show()"
      ],
      "metadata": {
        "colab": {
          "base_uri": "https://localhost:8080/",
          "height": 472
        },
        "id": "M8l_6fjLfd_k",
        "outputId": "387a85e2-c307-40a0-f36a-876914283a18"
      },
      "execution_count": null,
      "outputs": [
        {
          "output_type": "display_data",
          "data": {
            "text/plain": [
              "<Figure size 640x480 with 1 Axes>"
            ],
            "image/png": "[encoded data removed]"
          },
          "metadata": {}
        }
      ]
    },
    {
      "cell_type": "code",
      "source": [
        "print(x.shape)\n",
        "print(y.shape)"
      ],
      "metadata": {
        "colab": {
          "base_uri": "https://localhost:8080/"
        },
        "id": "8pRoSs9Sfeh_",
        "outputId": "5e33199a-fab6-4994-91b3-2a3e91ac8944"
      },
      "execution_count": null,
      "outputs": [
        {
          "output_type": "stream",
          "name": "stdout",
          "text": [
            "(5306,)\n",
            "(5306,)\n"
          ]
        }
      ]
    },
    {
      "cell_type": "code",
      "source": [
        "x=x.reshape(-1,1)\n",
        "y=y.reshape(-1,1)"
      ],
      "metadata": {
        "id": "9EpYpERDffVn"
      },
      "execution_count": null,
      "outputs": []
    },
    {
      "cell_type": "code",
      "source": [
        "print(x.shape)\n",
        "print(y.shape)"
      ],
      "metadata": {
        "colab": {
          "base_uri": "https://localhost:8080/"
        },
        "id": "dAqz3uKdffwO",
        "outputId": "74526974-e4f2-421b-c579-ce4150ea7ebb"
      },
      "execution_count": null,
      "outputs": [
        {
          "output_type": "stream",
          "name": "stdout",
          "text": [
            "(5306, 1)\n",
            "(5306, 1)\n"
          ]
        }
      ]
    },
    {
      "cell_type": "code",
      "source": [
        "from sklearn.model_selection import train_test_split\n",
        "x_train,x_test,y_train,y_test= train_test_split(x,y,test_size=0.3,random_state=1)"
      ],
      "metadata": {
        "id": "UBtaSaCagpBl"
      },
      "execution_count": null,
      "outputs": []
    },
    {
      "cell_type": "code",
      "source": [
        "print(x_train.shape)\n",
        "print(x_test.shape)\n",
        "print(y_train.shape)\n",
        "print(y_test.shape)"
      ],
      "metadata": {
        "colab": {
          "base_uri": "https://localhost:8080/"
        },
        "id": "bGpjnNfygpe5",
        "outputId": "0235c842-22b3-42cc-e5ae-c80fcf873592"
      },
      "execution_count": null,
      "outputs": [
        {
          "output_type": "stream",
          "name": "stdout",
          "text": [
            "(3714, 1)\n",
            "(1592, 1)\n",
            "(3714, 1)\n",
            "(1592, 1)\n"
          ]
        }
      ]
    },
    {
      "cell_type": "code",
      "source": [
        "from sklearn.linear_model import LinearRegression\n",
        "lm=LinearRegression()\n",
        "lm.fit(x_train,y_train)\n",
        "y_pred=lm.predict(x_test)"
      ],
      "metadata": {
        "id": "UKqVdN4vgqAr"
      },
      "execution_count": null,
      "outputs": []
    },
    {
      "cell_type": "code",
      "source": [
        "a=lm.coef_\n",
        "b=lm.intercept_\n",
        "print(\"slope value \",a)\n",
        "print(\"intercept value \",b)"
      ],
      "metadata": {
        "colab": {
          "base_uri": "https://localhost:8080/"
        },
        "id": "qw-8p20QgqcV",
        "outputId": "4b335074-db53-4513-9de6-92cbd3d1f676"
      },
      "execution_count": null,
      "outputs": [
        {
          "output_type": "stream",
          "name": "stdout",
          "text": [
            "slope value  [[1.]]\n",
            "intercept value  [-1.13686838e-13]\n"
          ]
        }
      ]
    },
    {
      "cell_type": "code",
      "source": [
        "from sklearn.metrics import mean_squared_error\n",
        "mse=mean_squared_error(y_test,y_pred)\n",
        "rmse=np.sqrt(mse)\n",
        "print(\"error {:.4f}\".format(rmse))"
      ],
      "metadata": {
        "colab": {
          "base_uri": "https://localhost:8080/"
        },
        "id": "EHZy9lu3g2vG",
        "outputId": "2f69a129-4a8c-4b34-8672-42852d05a8ca"
      },
      "execution_count": null,
      "outputs": [
        {
          "output_type": "stream",
          "name": "stdout",
          "text": [
            "error 0.0000\n"
          ]
        }
      ]
    },
    {
      "cell_type": "code",
      "source": [
        "from sklearn.metrics import r2_score\n",
        "print(\"r2 score value {:.4f}\".format(r2_score(y_test,y_pred)))"
      ],
      "metadata": {
        "colab": {
          "base_uri": "https://localhost:8080/"
        },
        "id": "QUXHdo8ug3F0",
        "outputId": "cb9b4c3b-0fd7-417d-9e7c-0006a641e710"
      },
      "execution_count": null,
      "outputs": [
        {
          "output_type": "stream",
          "name": "stdout",
          "text": [
            "r2 score value 1.0000\n"
          ]
        }
      ]
    },
    {
      "cell_type": "code",
      "source": [
        "plt.scatter(x,y,color=\"green\",label='plotting')\n",
        "plt.plot(x_test,y_pred,linewidth=3,color=\"black\")\n",
        "plt.title(\"plotting the graph\")\n",
        "plt.xlabel(\"Open\")\n",
        "plt.ylabel('Close')\n",
        "plt.legend(loc=4)\n",
        "plt.show()"
      ],
      "metadata": {
        "colab": {
          "base_uri": "https://localhost:8080/",
          "height": 472
        },
        "id": "FiUsXszrg3iB",
        "outputId": "5d846ce5-8acf-4978-db9b-11e2d033eab2"
      },
      "execution_count": null,
      "outputs": [
        {
          "output_type": "display_data",
          "data": {
            "text/plain": [
              "<Figure size 640x480 with 1 Axes>"
            ],
            "image/png": "[encoded data removed]"
          },
          "metadata": {}
        }
      ]
    },
    {
      "cell_type": "code",
      "source": [
        "plt.scatter(lm.predict(x_train),lm.predict(x_train)-y_train,color=\"red\",label=\"train set\")\n",
        "plt.scatter(lm.predict(x_train),lm.predict(x_train)-y_train,color=\"green\",label=\"test set\")\n",
        "plt.hlines(xmin=0,xmax=2000,y=0,linewidth=3,color=\"pink\")\n",
        "plt.title(\"error\")\n",
        "plt.xlabel(\"Open\")\n",
        "plt.ylabel('Close')\n",
        "plt.legend(loc=6)\n",
        "plt.show()"
      ],
      "metadata": {
        "colab": {
          "base_uri": "https://localhost:8080/",
          "height": 472
        },
        "id": "hjrVeXycg4Pm",
        "outputId": "5b6c29c1-d4ae-4fa3-f254-6fca9ffd3da0"
      },
      "execution_count": null,
      "outputs": [
        {
          "output_type": "display_data",
          "data": {
            "text/plain": [
              "<Figure size 640x480 with 1 Axes>"
            ],
            "image/png": "[encoded data removed]"
          },
          "metadata": {}
        }
      ]
    },
    {
      "cell_type": "code",
      "source": [
        "print(\"train data score {:.4f}\".format(lm.score(x_train,y_train)))\n",
        "print(\"test data score {:.4f}\".format(lm.score(x_test,y_test)))"
      ],
      "metadata": {
        "colab": {
          "base_uri": "https://localhost:8080/"
        },
        "id": "OSdY_dscg4sg",
        "outputId": "1579a04a-1c83-4198-a19a-93ef351b46d8"
      },
      "execution_count": null,
      "outputs": [
        {
          "output_type": "stream",
          "name": "stdout",
          "text": [
            "train data score 1.0000\n",
            "test data score 1.0000\n"
          ]
        }
      ]
    },
    {
      "cell_type": "markdown",
      "source": [
        "# HDFC"
      ],
      "metadata": {
        "id": "WonMf98ZnWNY"
      }
    },
    {
      "cell_type": "code",
      "source": [
        "import pandas as pd\n",
        "import numpy as np\n",
        "import matplotlib.pyplot as plt"
      ],
      "metadata": {
        "id": "w7oh1XBVmWc_"
      },
      "execution_count": null,
      "outputs": []
    },
    {
      "cell_type": "code",
      "source": [
        "df=pd.read_csv(\"/content/HDFC.csv\")\n",
        "df.head()"
      ],
      "metadata": {
        "colab": {
          "base_uri": "https://localhost:8080/",
          "height": 374
        },
        "id": "DwJnIlfYhCa1",
        "outputId": "ff08d6aa-a84e-4efd-dd94-089900fe3dd0"
      },
      "execution_count": null,
      "outputs": [
        {
          "output_type": "execute_result",
          "data": {
            "text/plain": [
              "         Date Symbol Series  Prev Close   Open    High    Low   Last   Close  \\\n",
              "0  2000-01-03   HDFC     EQ      271.75  293.5  293.50  293.5  293.5  293.50   \n",
              "1  2000-01-04   HDFC     EQ      293.50  317.0  317.00  297.0  304.0  304.05   \n",
              "2  2000-01-05   HDFC     EQ      304.05  290.0  303.90  285.0  295.0  292.80   \n",
              "3  2000-01-06   HDFC     EQ      292.80  301.0  314.00  295.0  296.0  296.45   \n",
              "4  2000-01-07   HDFC     EQ      296.45  290.0  296.35  281.0  287.1  286.55   \n",
              "\n",
              "     VWAP  Volume      Turnover  Trades  Deliverable Volume  %Deliverble  \n",
              "0  293.50   22744  6.675364e+11     NaN                 NaN          NaN  \n",
              "1  303.62  255251  7.749972e+12     NaN                 NaN          NaN  \n",
              "2  294.53  269087  7.925368e+12     NaN                 NaN          NaN  \n",
              "3  300.14  305916  9.181669e+12     NaN                 NaN          NaN  \n",
              "4  288.80  197039  5.690480e+12     NaN                 NaN          NaN  "
            ],
            "text/html": [
              "\n",
              "  <div id=\"df-a500698a-3349-4212-80d4-e5ab064dccef\">\n",
              "    <div class=\"colab-df-container\">\n",
              "      <div>\n",
              "<style scoped>\n",
              "    .dataframe tbody tr th:only-of-type {\n",
              "        vertical-align: middle;\n",
              "    }\n",
              "\n",
              "    .dataframe tbody tr th {\n",
              "        vertical-align: top;\n",
              "    }\n",
              "\n",
              "    .dataframe thead th {\n",
              "        text-align: right;\n",
              "    }\n",
              "</style>\n",
              "<table border=\"1\" class=\"dataframe\">\n",
              "  <thead>\n",
              "    <tr style=\"text-align: right;\">\n",
              "      <th></th>\n",
              "      <th>Date</th>\n",
              "      <th>Symbol</th>\n",
              "      <th>Series</th>\n",
              "      <th>Prev Close</th>\n",
              "      <th>Open</th>\n",
              "      <th>High</th>\n",
              "      <th>Low</th>\n",
              "      <th>Last</th>\n",
              "      <th>Close</th>\n",
              "      <th>VWAP</th>\n",
              "      <th>Volume</th>\n",
              "      <th>Turnover</th>\n",
              "      <th>Trades</th>\n",
              "      <th>Deliverable Volume</th>\n",
              "      <th>%Deliverble</th>\n",
              "    </tr>\n",
              "  </thead>\n",
              "  <tbody>\n",
              "    <tr>\n",
              "      <th>0</th>\n",
              "      <td>2000-01-03</td>\n",
              "      <td>HDFC</td>\n",
              "      <td>EQ</td>\n",
              "      <td>271.75</td>\n",
              "      <td>293.5</td>\n",
              "      <td>293.50</td>\n",
              "      <td>293.5</td>\n",
              "      <td>293.5</td>\n",
              "      <td>293.50</td>\n",
              "      <td>293.50</td>\n",
              "      <td>22744</td>\n",
              "      <td>6.675364e+11</td>\n",
              "      <td>NaN</td>\n",
              "      <td>NaN</td>\n",
              "      <td>NaN</td>\n",
              "    </tr>\n",
              "    <tr>\n",
              "      <th>1</th>\n",
              "      <td>2000-01-04</td>\n",
              "      <td>HDFC</td>\n",
              "      <td>EQ</td>\n",
              "      <td>293.50</td>\n",
              "      <td>317.0</td>\n",
              "      <td>317.00</td>\n",
              "      <td>297.0</td>\n",
              "      <td>304.0</td>\n",
              "      <td>304.05</td>\n",
              "      <td>303.62</td>\n",
              "      <td>255251</td>\n",
              "      <td>7.749972e+12</td>\n",
              "      <td>NaN</td>\n",
              "      <td>NaN</td>\n",
              "      <td>NaN</td>\n",
              "    </tr>\n",
              "    <tr>\n",
              "      <th>2</th>\n",
              "      <td>2000-01-05</td>\n",
              "      <td>HDFC</td>\n",
              "      <td>EQ</td>\n",
              "      <td>304.05</td>\n",
              "      <td>290.0</td>\n",
              "      <td>303.90</td>\n",
              "      <td>285.0</td>\n",
              "      <td>295.0</td>\n",
              "      <td>292.80</td>\n",
              "      <td>294.53</td>\n",
              "      <td>269087</td>\n",
              "      <td>7.925368e+12</td>\n",
              "      <td>NaN</td>\n",
              "      <td>NaN</td>\n",
              "      <td>NaN</td>\n",
              "    </tr>\n",
              "    <tr>\n",
              "      <th>3</th>\n",
              "      <td>2000-01-06</td>\n",
              "      <td>HDFC</td>\n",
              "      <td>EQ</td>\n",
              "      <td>292.80</td>\n",
              "      <td>301.0</td>\n",
              "      <td>314.00</td>\n",
              "      <td>295.0</td>\n",
              "      <td>296.0</td>\n",
              "      <td>296.45</td>\n",
              "      <td>300.14</td>\n",
              "      <td>305916</td>\n",
              "      <td>9.181669e+12</td>\n",
              "      <td>NaN</td>\n",
              "      <td>NaN</td>\n",
              "      <td>NaN</td>\n",
              "    </tr>\n",
              "    <tr>\n",
              "      <th>4</th>\n",
              "      <td>2000-01-07</td>\n",
              "      <td>HDFC</td>\n",
              "      <td>EQ</td>\n",
              "      <td>296.45</td>\n",
              "      <td>290.0</td>\n",
              "      <td>296.35</td>\n",
              "      <td>281.0</td>\n",
              "      <td>287.1</td>\n",
              "      <td>286.55</td>\n",
              "      <td>288.80</td>\n",
              "      <td>197039</td>\n",
              "      <td>5.690480e+12</td>\n",
              "      <td>NaN</td>\n",
              "      <td>NaN</td>\n",
              "      <td>NaN</td>\n",
              "    </tr>\n",
              "  </tbody>\n",
              "</table>\n",
              "</div>\n",
              "      <button class=\"colab-df-convert\" onclick=\"convertToInteractive('df-a500698a-3349-4212-80d4-e5ab064dccef')\"\n",
              "              title=\"Convert this dataframe to an interactive table.\"\n",
              "              style=\"display:none;\">\n",
              "        \n",
              "  <svg xmlns=\"http://www.w3.org/2000/svg\" height=\"24px\"viewBox=\"0 0 24 24\"\n",
              "       width=\"24px\">\n",
              "    <path d=\"M0 0h24v24H0V0z\" fill=\"none\"/>\n",
              "    <path d=\"M18.56 5.44l.94 2.06.94-2.06 2.06-.94-2.06-.94-.94-2.06-.94 2.06-2.06.94zm-11 1L8.5 8.5l.94-2.06 2.06-.94-2.06-.94L8.5 2.5l-.94 2.06-2.06.94zm10 10l.94 2.06.94-2.06 2.06-.94-2.06-.94-.94-2.06-.94 2.06-2.06.94z\"/><path d=\"M17.41 7.96l-1.37-1.37c-.4-.4-.92-.59-1.43-.59-.52 0-1.04.2-1.43.59L10.3 9.45l-7.72 7.72c-.78.78-.78 2.05 0 2.83L4 21.41c.39.39.9.59 1.41.59.51 0 1.02-.2 1.41-.59l7.78-7.78 2.81-2.81c.8-.78.8-2.07 0-2.86zM5.41 20L4 18.59l7.72-7.72 1.47 1.35L5.41 20z\"/>\n",
              "  </svg>\n",
              "      </button>\n",
              "      \n",
              "  <style>\n",
              "    .colab-df-container {\n",
              "      display:flex;\n",
              "      flex-wrap:wrap;\n",
              "      gap: 12px;\n",
              "    }\n",
              "\n",
              "    .colab-df-convert {\n",
              "      background-color: #E8F0FE;\n",
              "      border: none;\n",
              "      border-radius: 50%;\n",
              "      cursor: pointer;\n",
              "      display: none;\n",
              "      fill: #1967D2;\n",
              "      height: 32px;\n",
              "      padding: 0 0 0 0;\n",
              "      width: 32px;\n",
              "    }\n",
              "\n",
              "    .colab-df-convert:hover {\n",
              "      background-color: #E2EBFA;\n",
              "      box-shadow: 0px 1px 2px rgba(60, 64, 67, 0.3), 0px 1px 3px 1px rgba(60, 64, 67, 0.15);\n",
              "      fill: #174EA6;\n",
              "    }\n",
              "\n",
              "    [theme=dark] .colab-df-convert {\n",
              "      background-color: #3B4455;\n",
              "      fill: #D2E3FC;\n",
              "    }\n",
              "\n",
              "    [theme=dark] .colab-df-convert:hover {\n",
              "      background-color: #434B5C;\n",
              "      box-shadow: 0px 1px 3px 1px rgba(0, 0, 0, 0.15);\n",
              "      filter: drop-shadow(0px 1px 2px rgba(0, 0, 0, 0.3));\n",
              "      fill: #FFFFFF;\n",
              "    }\n",
              "  </style>\n",
              "\n",
              "      <script>\n",
              "        const buttonEl =\n",
              "          document.querySelector('#df-a500698a-3349-4212-80d4-e5ab064dccef button.colab-df-convert');\n",
              "        buttonEl.style.display =\n",
              "          google.colab.kernel.accessAllowed ? 'block' : 'none';\n",
              "\n",
              "        async function convertToInteractive(key) {\n",
              "          const element = document.querySelector('#df-a500698a-3349-4212-80d4-e5ab064dccef');\n",
              "          const dataTable =\n",
              "            await google.colab.kernel.invokeFunction('convertToInteractive',\n",
              "                                                     [key], {});\n",
              "          if (!dataTable) return;\n",
              "\n",
              "          const docLinkHtml = 'Like what you see? Visit the ' +\n",
              "            '<a target=\"_blank\" href=https://colab.research.google.com/notebooks/data_table.ipynb>data table notebook</a>'\n",
              "            + ' to learn more about interactive tables.';\n",
              "          element.innerHTML = '';\n",
              "          dataTable['output_type'] = 'display_data';\n",
              "          await google.colab.output.renderOutput(dataTable, element);\n",
              "          const docLink = document.createElement('div');\n",
              "          docLink.innerHTML = docLinkHtml;\n",
              "          element.appendChild(docLink);\n",
              "        }\n",
              "      </script>\n",
              "    </div>\n",
              "  </div>\n",
              "  "
            ]
          },
          "metadata": {},
          "execution_count": 32
        }
      ]
    },
    {
      "cell_type": "code",
      "source": [
        "df.shape"
      ],
      "metadata": {
        "colab": {
          "base_uri": "https://localhost:8080/"
        },
        "id": "xUR82y1vhCxT",
        "outputId": "7072dca9-3a2f-4f09-ef86-5393f3b37831"
      },
      "execution_count": null,
      "outputs": [
        {
          "output_type": "execute_result",
          "data": {
            "text/plain": [
              "(5306, 15)"
            ]
          },
          "metadata": {},
          "execution_count": 33
        }
      ]
    },
    {
      "cell_type": "code",
      "source": [
        "df.info()"
      ],
      "metadata": {
        "colab": {
          "base_uri": "https://localhost:8080/"
        },
        "id": "eRsNwIdJhDKQ",
        "outputId": "25a81509-81c7-4616-b8fd-3d924b2baded"
      },
      "execution_count": null,
      "outputs": [
        {
          "output_type": "stream",
          "name": "stdout",
          "text": [
            "<class 'pandas.core.frame.DataFrame'>\n",
            "RangeIndex: 5306 entries, 0 to 5305\n",
            "Data columns (total 15 columns):\n",
            " #   Column              Non-Null Count  Dtype  \n",
            "---  ------              --------------  -----  \n",
            " 0   Date                5306 non-null   object \n",
            " 1   Symbol              5306 non-null   object \n",
            " 2   Series              5306 non-null   object \n",
            " 3   Prev Close          5306 non-null   float64\n",
            " 4   Open                5306 non-null   float64\n",
            " 5   High                5306 non-null   float64\n",
            " 6   Low                 5306 non-null   float64\n",
            " 7   Last                5306 non-null   float64\n",
            " 8   Close               5306 non-null   float64\n",
            " 9   VWAP                5306 non-null   float64\n",
            " 10  Volume              5306 non-null   int64  \n",
            " 11  Turnover            5306 non-null   float64\n",
            " 12  Trades              2456 non-null   float64\n",
            " 13  Deliverable Volume  4797 non-null   float64\n",
            " 14  %Deliverble         4797 non-null   float64\n",
            "dtypes: float64(11), int64(1), object(3)\n",
            "memory usage: 621.9+ KB\n"
          ]
        }
      ]
    },
    {
      "cell_type": "code",
      "source": [
        "df.info"
      ],
      "metadata": {
        "colab": {
          "base_uri": "https://localhost:8080/"
        },
        "id": "Cax7lKUFkUwA",
        "outputId": "c604a0a4-1b8c-4401-ef1c-c6d440d75123"
      },
      "execution_count": null,
      "outputs": [
        {
          "output_type": "execute_result",
          "data": {
            "text/plain": [
              "<bound method DataFrame.info of             Date Symbol Series  Prev Close     Open     High      Low  \\\n",
              "0     2000-01-03   HDFC     EQ      271.75   293.50   293.50   293.50   \n",
              "1     2000-01-04   HDFC     EQ      293.50   317.00   317.00   297.00   \n",
              "2     2000-01-05   HDFC     EQ      304.05   290.00   303.90   285.00   \n",
              "3     2000-01-06   HDFC     EQ      292.80   301.00   314.00   295.00   \n",
              "4     2000-01-07   HDFC     EQ      296.45   290.00   296.35   281.00   \n",
              "...          ...    ...    ...         ...      ...      ...      ...   \n",
              "5301  2021-04-26   HDFC     EQ     2497.35  2500.00  2534.10  2483.20   \n",
              "5302  2021-04-27   HDFC     EQ     2509.80  2494.15  2526.80  2486.25   \n",
              "5303  2021-04-28   HDFC     EQ     2518.40  2516.10  2609.00  2508.30   \n",
              "5304  2021-04-29   HDFC     EQ     2577.00  2590.90  2628.00  2533.00   \n",
              "5305  2021-04-30   HDFC     EQ     2538.85  2503.10  2525.00  2411.10   \n",
              "\n",
              "         Last    Close     VWAP   Volume      Turnover    Trades  \\\n",
              "0      293.50   293.50   293.50    22744  6.675364e+11       NaN   \n",
              "1      304.00   304.05   303.62   255251  7.749972e+12       NaN   \n",
              "2      295.00   292.80   294.53   269087  7.925368e+12       NaN   \n",
              "3      296.00   296.45   300.14   305916  9.181669e+12       NaN   \n",
              "4      287.10   286.55   288.80   197039  5.690480e+12       NaN   \n",
              "...       ...      ...      ...      ...           ...       ...   \n",
              "5301  2502.00  2509.80  2508.07  3916088  9.821805e+14  121028.0   \n",
              "5302  2514.00  2518.40  2509.18  2040799  5.120730e+14  102250.0   \n",
              "5303  2575.00  2577.00  2574.21  3407461  8.771527e+14  117425.0   \n",
              "5304  2539.70  2538.85  2569.65  3005468  7.722995e+14  132826.0   \n",
              "5305  2433.25  2420.10  2445.94  6024595  1.473581e+15  224454.0   \n",
              "\n",
              "      Deliverable Volume  %Deliverble  \n",
              "0                    NaN          NaN  \n",
              "1                    NaN          NaN  \n",
              "2                    NaN          NaN  \n",
              "3                    NaN          NaN  \n",
              "4                    NaN          NaN  \n",
              "...                  ...          ...  \n",
              "5301           2440395.0       0.6232  \n",
              "5302           1040749.0       0.5100  \n",
              "5303           1815110.0       0.5327  \n",
              "5304           1472924.0       0.4901  \n",
              "5305           3839105.0       0.6372  \n",
              "\n",
              "[5306 rows x 15 columns]>"
            ]
          },
          "metadata": {},
          "execution_count": 35
        }
      ]
    },
    {
      "cell_type": "code",
      "source": [
        "df.isnull().sum()"
      ],
      "metadata": {
        "colab": {
          "base_uri": "https://localhost:8080/"
        },
        "id": "-tWWnUUXkVJM",
        "outputId": "c249050f-d4b2-4e18-d75a-9bac51436305"
      },
      "execution_count": null,
      "outputs": [
        {
          "output_type": "execute_result",
          "data": {
            "text/plain": [
              "Date                     0\n",
              "Symbol                   0\n",
              "Series                   0\n",
              "Prev Close               0\n",
              "Open                     0\n",
              "High                     0\n",
              "Low                      0\n",
              "Last                     0\n",
              "Close                    0\n",
              "VWAP                     0\n",
              "Volume                   0\n",
              "Turnover                 0\n",
              "Trades                2850\n",
              "Deliverable Volume     509\n",
              "%Deliverble            509\n",
              "dtype: int64"
            ]
          },
          "metadata": {},
          "execution_count": 36
        }
      ]
    },
    {
      "cell_type": "code",
      "source": [
        "df.describe"
      ],
      "metadata": {
        "colab": {
          "base_uri": "https://localhost:8080/"
        },
        "id": "pDdc6rtvkViE",
        "outputId": "eb268419-8f38-4429-ee37-f73c17f15535"
      },
      "execution_count": null,
      "outputs": [
        {
          "output_type": "execute_result",
          "data": {
            "text/plain": [
              "<bound method NDFrame.describe of             Date Symbol Series  Prev Close     Open     High      Low  \\\n",
              "0     2000-01-03   HDFC     EQ      271.75   293.50   293.50   293.50   \n",
              "1     2000-01-04   HDFC     EQ      293.50   317.00   317.00   297.00   \n",
              "2     2000-01-05   HDFC     EQ      304.05   290.00   303.90   285.00   \n",
              "3     2000-01-06   HDFC     EQ      292.80   301.00   314.00   295.00   \n",
              "4     2000-01-07   HDFC     EQ      296.45   290.00   296.35   281.00   \n",
              "...          ...    ...    ...         ...      ...      ...      ...   \n",
              "5301  2021-04-26   HDFC     EQ     2497.35  2500.00  2534.10  2483.20   \n",
              "5302  2021-04-27   HDFC     EQ     2509.80  2494.15  2526.80  2486.25   \n",
              "5303  2021-04-28   HDFC     EQ     2518.40  2516.10  2609.00  2508.30   \n",
              "5304  2021-04-29   HDFC     EQ     2577.00  2590.90  2628.00  2533.00   \n",
              "5305  2021-04-30   HDFC     EQ     2538.85  2503.10  2525.00  2411.10   \n",
              "\n",
              "         Last    Close     VWAP   Volume      Turnover    Trades  \\\n",
              "0      293.50   293.50   293.50    22744  6.675364e+11       NaN   \n",
              "1      304.00   304.05   303.62   255251  7.749972e+12       NaN   \n",
              "2      295.00   292.80   294.53   269087  7.925368e+12       NaN   \n",
              "3      296.00   296.45   300.14   305916  9.181669e+12       NaN   \n",
              "4      287.10   286.55   288.80   197039  5.690480e+12       NaN   \n",
              "...       ...      ...      ...      ...           ...       ...   \n",
              "5301  2502.00  2509.80  2508.07  3916088  9.821805e+14  121028.0   \n",
              "5302  2514.00  2518.40  2509.18  2040799  5.120730e+14  102250.0   \n",
              "5303  2575.00  2577.00  2574.21  3407461  8.771527e+14  117425.0   \n",
              "5304  2539.70  2538.85  2569.65  3005468  7.722995e+14  132826.0   \n",
              "5305  2433.25  2420.10  2445.94  6024595  1.473581e+15  224454.0   \n",
              "\n",
              "      Deliverable Volume  %Deliverble  \n",
              "0                    NaN          NaN  \n",
              "1                    NaN          NaN  \n",
              "2                    NaN          NaN  \n",
              "3                    NaN          NaN  \n",
              "4                    NaN          NaN  \n",
              "...                  ...          ...  \n",
              "5301           2440395.0       0.6232  \n",
              "5302           1040749.0       0.5100  \n",
              "5303           1815110.0       0.5327  \n",
              "5304           1472924.0       0.4901  \n",
              "5305           3839105.0       0.6372  \n",
              "\n",
              "[5306 rows x 15 columns]>"
            ]
          },
          "metadata": {},
          "execution_count": 37
        }
      ]
    },
    {
      "cell_type": "code",
      "source": [
        "x=df['High'].values"
      ],
      "metadata": {
        "id": "u47efzOtkV_v"
      },
      "execution_count": null,
      "outputs": []
    },
    {
      "cell_type": "code",
      "source": [
        "y=df['Low'].values"
      ],
      "metadata": {
        "id": "3LS2q3UQkWiN"
      },
      "execution_count": null,
      "outputs": []
    },
    {
      "cell_type": "code",
      "source": [
        "plt.scatter(x,y,color=\"green\",label='plotting')\n",
        "plt.title(\"plotting the graph\")\n",
        "plt.xlabel(\"High\")\n",
        "plt.ylabel('Low')\n",
        "plt.legend(loc=7)\n",
        "plt.show()"
      ],
      "metadata": {
        "colab": {
          "base_uri": "https://localhost:8080/",
          "height": 472
        },
        "id": "xe_LKQcikW_I",
        "outputId": "fb8bf652-80f8-4cb4-bcd4-0e5a8cb5788c"
      },
      "execution_count": null,
      "outputs": [
        {
          "output_type": "display_data",
          "data": {
            "text/plain": [
              "<Figure size 640x480 with 1 Axes>"
            ],
            "image/png": "[encoded data removed]"
          },
          "metadata": {}
        }
      ]
    },
    {
      "cell_type": "code",
      "source": [
        "print(x.shape)\n",
        "print(y.shape)"
      ],
      "metadata": {
        "colab": {
          "base_uri": "https://localhost:8080/"
        },
        "id": "Mn13oDkskXY_",
        "outputId": "a7080338-ca5e-4387-81b0-6a8a564c62cd"
      },
      "execution_count": null,
      "outputs": [
        {
          "output_type": "stream",
          "name": "stdout",
          "text": [
            "(5306,)\n",
            "(5306,)\n"
          ]
        }
      ]
    },
    {
      "cell_type": "code",
      "source": [
        "x=x.reshape(-1,1)\n",
        "y=y.reshape(-1,1)"
      ],
      "metadata": {
        "id": "6ckCSBMnkXsq"
      },
      "execution_count": null,
      "outputs": []
    },
    {
      "cell_type": "code",
      "source": [
        "print(x.shape)\n",
        "print(y.shape)"
      ],
      "metadata": {
        "colab": {
          "base_uri": "https://localhost:8080/"
        },
        "id": "2zpvkPMdkYBM",
        "outputId": "347407a4-0972-4204-a318-92a39f7b2b79"
      },
      "execution_count": null,
      "outputs": [
        {
          "output_type": "stream",
          "name": "stdout",
          "text": [
            "(5306, 1)\n",
            "(5306, 1)\n"
          ]
        }
      ]
    },
    {
      "cell_type": "code",
      "source": [
        "from sklearn.model_selection import train_test_split\n",
        "x_train,x_test,y_train,y_test= train_test_split(x,y,test_size=0.3,random_state=1)"
      ],
      "metadata": {
        "id": "Ol-miqurkYT6"
      },
      "execution_count": null,
      "outputs": []
    },
    {
      "cell_type": "code",
      "source": [
        "print(x_train.shape)\n",
        "print(x_test.shape)\n",
        "print(y_train.shape)\n",
        "print(y_test.shape)"
      ],
      "metadata": {
        "colab": {
          "base_uri": "https://localhost:8080/"
        },
        "id": "GROGt7BjkYnt",
        "outputId": "f251b4e9-d3e2-47dc-d3aa-241b494d6051"
      },
      "execution_count": null,
      "outputs": [
        {
          "output_type": "stream",
          "name": "stdout",
          "text": [
            "(3714, 1)\n",
            "(1592, 1)\n",
            "(3714, 1)\n",
            "(1592, 1)\n"
          ]
        }
      ]
    },
    {
      "cell_type": "code",
      "source": [
        "from sklearn.linear_model import LinearRegression\n",
        "lm=LinearRegression()\n",
        "lm.fit(x_train,y_train)\n",
        "y_pred=lm.predict(x_test)"
      ],
      "metadata": {
        "id": "lGvwoSFVkZMd"
      },
      "execution_count": null,
      "outputs": []
    },
    {
      "cell_type": "code",
      "source": [
        "a=lm.coef_\n",
        "b=lm.intercept_\n",
        "print(\"slope value \",a)\n",
        "print(\"intercept value \",b)"
      ],
      "metadata": {
        "colab": {
          "base_uri": "https://localhost:8080/"
        },
        "id": "XO13B1E-kZ1I",
        "outputId": "73080875-d60c-42eb-9160-7062a1e9c28e"
      },
      "execution_count": null,
      "outputs": [
        {
          "output_type": "stream",
          "name": "stdout",
          "text": [
            "slope value  [[0.96580157]]\n",
            "intercept value  [3.59513094]\n"
          ]
        }
      ]
    },
    {
      "cell_type": "code",
      "source": [
        "from sklearn.metrics import mean_squared_error\n",
        "mse=mean_squared_error(y_test,y_pred)\n",
        "rmse=np.sqrt(mse)\n",
        "print(\"error {:.4f}\".format(rmse))"
      ],
      "metadata": {
        "colab": {
          "base_uri": "https://localhost:8080/"
        },
        "id": "EGK0ebMFkaZZ",
        "outputId": "a3b9a3a0-7f15-4bab-983a-0f649d9a3523"
      },
      "execution_count": null,
      "outputs": [
        {
          "output_type": "stream",
          "name": "stdout",
          "text": [
            "error 31.9255\n"
          ]
        }
      ]
    },
    {
      "cell_type": "code",
      "source": [
        "from sklearn.metrics import r2_score\n",
        "print(\"r2 score value {:.4f}\".format(r2_score(y_test,y_pred)))"
      ],
      "metadata": {
        "colab": {
          "base_uri": "https://localhost:8080/"
        },
        "id": "SANUUlrikazc",
        "outputId": "98800952-8aad-46ad-807d-09944a4e0a09"
      },
      "execution_count": null,
      "outputs": [
        {
          "output_type": "stream",
          "name": "stdout",
          "text": [
            "r2 score value 0.9979\n"
          ]
        }
      ]
    },
    {
      "cell_type": "code",
      "source": [
        "plt.scatter(x,y,color=\"yellow\",label='plotting')\n",
        "plt.plot(x_test,y_pred,linewidth=3,color=\"black\")\n",
        "plt.title(\"plotting the graph\")\n",
        "plt.xlabel(\"High\")\n",
        "plt.ylabel('Low')\n",
        "plt.legend(loc=4)\n",
        "plt.show()"
      ],
      "metadata": {
        "colab": {
          "base_uri": "https://localhost:8080/",
          "height": 472
        },
        "id": "0GQ1yO5foSD8",
        "outputId": "f163afb0-dd4a-4d5f-b518-c6a5a3056880"
      },
      "execution_count": null,
      "outputs": [
        {
          "output_type": "display_data",
          "data": {
            "text/plain": [
              "<Figure size 640x480 with 1 Axes>"
            ],
            "image/png": "[encoded data removed]"
          },
          "metadata": {}
        }
      ]
    },
    {
      "cell_type": "code",
      "source": [
        "plt.scatter(lm.predict(x_train),lm.predict(x_train)-y_train,color=\"red\",label=\"train set\")\n",
        "plt.scatter(lm.predict(x_train),lm.predict(x_train)-y_train,color=\"yellow\",label=\"test set\")\n",
        "plt.hlines(xmin=0,xmax=2000,y=0,linewidth=3,color=\"pink\")\n",
        "plt.title(\"error\")\n",
        "plt.xlabel(\"High\")\n",
        "plt.ylabel('Low')\n",
        "plt.legend(loc=6)\n",
        "plt.show()"
      ],
      "metadata": {
        "colab": {
          "base_uri": "https://localhost:8080/",
          "height": 472
        },
        "id": "j2zm9-TAoSeR",
        "outputId": "c3dd4a34-3857-4ac1-cd67-8606a500a5c2"
      },
      "execution_count": null,
      "outputs": [
        {
          "output_type": "display_data",
          "data": {
            "text/plain": [
              "<Figure size 640x480 with 1 Axes>"
            ],
            "image/png": "[encoded data removed]"
          },
          "metadata": {}
        }
      ]
    },
    {
      "cell_type": "code",
      "source": [
        "print(\"train data score {:.4f}\".format(lm.score(x_train,y_train)))\n",
        "print(\"test data score {:.4f}\".format(lm.score(x_test,y_test)))"
      ],
      "metadata": {
        "colab": {
          "base_uri": "https://localhost:8080/"
        },
        "id": "O5boYInmoS2P",
        "outputId": "0dee28df-98da-4843-b3a0-4cafa13541d7"
      },
      "execution_count": null,
      "outputs": [
        {
          "output_type": "stream",
          "name": "stdout",
          "text": [
            "train data score 0.9977\n",
            "test data score 0.9979\n"
          ]
        }
      ]
    }
  ]
}
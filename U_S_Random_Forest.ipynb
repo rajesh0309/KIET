{
  "cells": [
    {
      "cell_type": "markdown",
      "metadata": {
        "id": "view-in-github",
        "colab_type": "text"
      },
      "source": [
        "<a href=\"https://colab.research.google.com/github/rajesh0309/KIET/blob/main/U_S_Random_Forest.ipynb\" target=\"_parent\"><img src=\"https://colab.research.google.com/assets/colab-badge.svg\" alt=\"Open In Colab\"/></a>"
      ]
    },
    {
      "cell_type": "markdown",
      "metadata": {
        "id": "kC-Z9QrLtqj8"
      },
      "source": [
        "Predict U.S election (Using Random Forest)"
      ]
    },
    {
      "cell_type": "markdown",
      "metadata": {
        "id": "PfLYK23UkQNU"
      },
      "source": []
    },
    {
      "cell_type": "code",
      "execution_count": null,
      "metadata": {
        "id": "HMisb1VDkQpX"
      },
      "outputs": [],
      "source": [
        "import pandas as pd\n",
        "import numpy as np\n",
        "import seaborn as sns\n",
        "import matplotlib.pyplot as plt"
      ]
    },
    {
      "cell_type": "code",
      "execution_count": null,
      "metadata": {
        "id": "shHLF1tbkQvD"
      },
      "outputs": [],
      "source": [
        "data=pd.read_csv('/content/county_census_and_election_result.csv')"
      ]
    },
    {
      "cell_type": "code",
      "execution_count": null,
      "metadata": {
        "colab": {
          "base_uri": "https://localhost:8080/"
        },
        "id": "LadE9gDYkQyS",
        "outputId": "ecde122c-c6ff-4601-8b2f-a5475e401b4b"
      },
      "outputs": [
        {
          "data": {
            "text/plain": [
              "(7526, 45)"
            ]
          },
          "execution_count": 48,
          "metadata": {},
          "output_type": "execute_result"
        }
      ],
      "source": [
        "data.shape"
      ]
    },
    {
      "cell_type": "code",
      "execution_count": null,
      "metadata": {
        "colab": {
          "base_uri": "https://localhost:8080/",
          "height": 299
        },
        "id": "6UzogjtjkQ1G",
        "outputId": "aa4f02c1-6157-4ec1-83ab-0537268e65f0"
      },
      "outputs": [
        {
          "data": {
            "text/html": [
              "\n",
              "  <div id=\"df-2f210159-e5cf-43e3-9c1a-9133035b8586\">\n",
              "    <div class=\"colab-df-container\">\n",
              "      <div>\n",
              "<style scoped>\n",
              "    .dataframe tbody tr th:only-of-type {\n",
              "        vertical-align: middle;\n",
              "    }\n",
              "\n",
              "    .dataframe tbody tr th {\n",
              "        vertical-align: top;\n",
              "    }\n",
              "\n",
              "    .dataframe thead th {\n",
              "        text-align: right;\n",
              "    }\n",
              "</style>\n",
              "<table border=\"1\" class=\"dataframe\">\n",
              "  <thead>\n",
              "    <tr style=\"text-align: right;\">\n",
              "      <th></th>\n",
              "      <th>year</th>\n",
              "      <th>county_fips</th>\n",
              "      <th>inctot</th>\n",
              "      <th>mortamt1</th>\n",
              "      <th>avrg_age</th>\n",
              "      <th>ftotinc</th>\n",
              "      <th>foodstmp_1_freq</th>\n",
              "      <th>foodstmp_2_freq</th>\n",
              "      <th>sex_2_freq</th>\n",
              "      <th>sex_1_freq</th>\n",
              "      <th>...</th>\n",
              "      <th>empstat_3.0_freq</th>\n",
              "      <th>empstat_2.0_freq</th>\n",
              "      <th>state_po</th>\n",
              "      <th>county_name</th>\n",
              "      <th>democrat</th>\n",
              "      <th>green</th>\n",
              "      <th>liberitarian</th>\n",
              "      <th>other</th>\n",
              "      <th>republican</th>\n",
              "      <th>winner</th>\n",
              "    </tr>\n",
              "  </thead>\n",
              "  <tbody>\n",
              "    <tr>\n",
              "      <th>0</th>\n",
              "      <td>2000</td>\n",
              "      <td>1</td>\n",
              "      <td>24566.4</td>\n",
              "      <td>634.6</td>\n",
              "      <td>46.0</td>\n",
              "      <td>46912.7</td>\n",
              "      <td>93.6</td>\n",
              "      <td>6.4</td>\n",
              "      <td>54.0</td>\n",
              "      <td>46.0</td>\n",
              "      <td>...</td>\n",
              "      <td>38.4</td>\n",
              "      <td>3.2</td>\n",
              "      <td>NaN</td>\n",
              "      <td>NaN</td>\n",
              "      <td>NaN</td>\n",
              "      <td>NaN</td>\n",
              "      <td>NaN</td>\n",
              "      <td>NaN</td>\n",
              "      <td>NaN</td>\n",
              "      <td>NaN</td>\n",
              "    </tr>\n",
              "    <tr>\n",
              "      <th>1</th>\n",
              "      <td>2000</td>\n",
              "      <td>2</td>\n",
              "      <td>33842.9</td>\n",
              "      <td>1080.1</td>\n",
              "      <td>42.4</td>\n",
              "      <td>65021.9</td>\n",
              "      <td>95.3</td>\n",
              "      <td>4.7</td>\n",
              "      <td>50.3</td>\n",
              "      <td>49.7</td>\n",
              "      <td>...</td>\n",
              "      <td>25.2</td>\n",
              "      <td>4.8</td>\n",
              "      <td>NaN</td>\n",
              "      <td>NaN</td>\n",
              "      <td>NaN</td>\n",
              "      <td>NaN</td>\n",
              "      <td>NaN</td>\n",
              "      <td>NaN</td>\n",
              "      <td>NaN</td>\n",
              "      <td>NaN</td>\n",
              "    </tr>\n",
              "    <tr>\n",
              "      <th>2</th>\n",
              "      <td>2000</td>\n",
              "      <td>4</td>\n",
              "      <td>28331.7</td>\n",
              "      <td>814.7</td>\n",
              "      <td>45.3</td>\n",
              "      <td>52826.7</td>\n",
              "      <td>95.8</td>\n",
              "      <td>4.2</td>\n",
              "      <td>52.1</td>\n",
              "      <td>47.9</td>\n",
              "      <td>...</td>\n",
              "      <td>38.3</td>\n",
              "      <td>3.2</td>\n",
              "      <td>NaN</td>\n",
              "      <td>NaN</td>\n",
              "      <td>NaN</td>\n",
              "      <td>NaN</td>\n",
              "      <td>NaN</td>\n",
              "      <td>NaN</td>\n",
              "      <td>NaN</td>\n",
              "      <td>NaN</td>\n",
              "    </tr>\n",
              "    <tr>\n",
              "      <th>3</th>\n",
              "      <td>2000</td>\n",
              "      <td>5</td>\n",
              "      <td>22782.6</td>\n",
              "      <td>557.5</td>\n",
              "      <td>46.2</td>\n",
              "      <td>43941.3</td>\n",
              "      <td>92.5</td>\n",
              "      <td>7.5</td>\n",
              "      <td>53.0</td>\n",
              "      <td>47.0</td>\n",
              "      <td>...</td>\n",
              "      <td>37.8</td>\n",
              "      <td>3.2</td>\n",
              "      <td>NaN</td>\n",
              "      <td>NaN</td>\n",
              "      <td>NaN</td>\n",
              "      <td>NaN</td>\n",
              "      <td>NaN</td>\n",
              "      <td>NaN</td>\n",
              "      <td>NaN</td>\n",
              "      <td>NaN</td>\n",
              "    </tr>\n",
              "    <tr>\n",
              "      <th>4</th>\n",
              "      <td>2000</td>\n",
              "      <td>6</td>\n",
              "      <td>32245.0</td>\n",
              "      <td>1216.3</td>\n",
              "      <td>43.8</td>\n",
              "      <td>61455.3</td>\n",
              "      <td>95.7</td>\n",
              "      <td>4.3</td>\n",
              "      <td>52.0</td>\n",
              "      <td>48.0</td>\n",
              "      <td>...</td>\n",
              "      <td>35.1</td>\n",
              "      <td>3.6</td>\n",
              "      <td>NaN</td>\n",
              "      <td>NaN</td>\n",
              "      <td>NaN</td>\n",
              "      <td>NaN</td>\n",
              "      <td>NaN</td>\n",
              "      <td>NaN</td>\n",
              "      <td>NaN</td>\n",
              "      <td>NaN</td>\n",
              "    </tr>\n",
              "  </tbody>\n",
              "</table>\n",
              "<p>5 rows × 45 columns</p>\n",
              "</div>\n",
              "      <button class=\"colab-df-convert\" onclick=\"convertToInteractive('df-2f210159-e5cf-43e3-9c1a-9133035b8586')\"\n",
              "              title=\"Convert this dataframe to an interactive table.\"\n",
              "              style=\"display:none;\">\n",
              "        \n",
              "  <svg xmlns=\"http://www.w3.org/2000/svg\" height=\"24px\"viewBox=\"0 0 24 24\"\n",
              "       width=\"24px\">\n",
              "    <path d=\"M0 0h24v24H0V0z\" fill=\"none\"/>\n",
              "    <path d=\"M18.56 5.44l.94 2.06.94-2.06 2.06-.94-2.06-.94-.94-2.06-.94 2.06-2.06.94zm-11 1L8.5 8.5l.94-2.06 2.06-.94-2.06-.94L8.5 2.5l-.94 2.06-2.06.94zm10 10l.94 2.06.94-2.06 2.06-.94-2.06-.94-.94-2.06-.94 2.06-2.06.94z\"/><path d=\"M17.41 7.96l-1.37-1.37c-.4-.4-.92-.59-1.43-.59-.52 0-1.04.2-1.43.59L10.3 9.45l-7.72 7.72c-.78.78-.78 2.05 0 2.83L4 21.41c.39.39.9.59 1.41.59.51 0 1.02-.2 1.41-.59l7.78-7.78 2.81-2.81c.8-.78.8-2.07 0-2.86zM5.41 20L4 18.59l7.72-7.72 1.47 1.35L5.41 20z\"/>\n",
              "  </svg>\n",
              "      </button>\n",
              "      \n",
              "  <style>\n",
              "    .colab-df-container {\n",
              "      display:flex;\n",
              "      flex-wrap:wrap;\n",
              "      gap: 12px;\n",
              "    }\n",
              "\n",
              "    .colab-df-convert {\n",
              "      background-color: #E8F0FE;\n",
              "      border: none;\n",
              "      border-radius: 50%;\n",
              "      cursor: pointer;\n",
              "      display: none;\n",
              "      fill: #1967D2;\n",
              "      height: 32px;\n",
              "      padding: 0 0 0 0;\n",
              "      width: 32px;\n",
              "    }\n",
              "\n",
              "    .colab-df-convert:hover {\n",
              "      background-color: #E2EBFA;\n",
              "      box-shadow: 0px 1px 2px rgba(60, 64, 67, 0.3), 0px 1px 3px 1px rgba(60, 64, 67, 0.15);\n",
              "      fill: #174EA6;\n",
              "    }\n",
              "\n",
              "    [theme=dark] .colab-df-convert {\n",
              "      background-color: #3B4455;\n",
              "      fill: #D2E3FC;\n",
              "    }\n",
              "\n",
              "    [theme=dark] .colab-df-convert:hover {\n",
              "      background-color: #434B5C;\n",
              "      box-shadow: 0px 1px 3px 1px rgba(0, 0, 0, 0.15);\n",
              "      filter: drop-shadow(0px 1px 2px rgba(0, 0, 0, 0.3));\n",
              "      fill: #FFFFFF;\n",
              "    }\n",
              "  </style>\n",
              "\n",
              "      <script>\n",
              "        const buttonEl =\n",
              "          document.querySelector('#df-2f210159-e5cf-43e3-9c1a-9133035b8586 button.colab-df-convert');\n",
              "        buttonEl.style.display =\n",
              "          google.colab.kernel.accessAllowed ? 'block' : 'none';\n",
              "\n",
              "        async function convertToInteractive(key) {\n",
              "          const element = document.querySelector('#df-2f210159-e5cf-43e3-9c1a-9133035b8586');\n",
              "          const dataTable =\n",
              "            await google.colab.kernel.invokeFunction('convertToInteractive',\n",
              "                                                     [key], {});\n",
              "          if (!dataTable) return;\n",
              "\n",
              "          const docLinkHtml = 'Like what you see? Visit the ' +\n",
              "            '<a target=\"_blank\" href=https://colab.research.google.com/notebooks/data_table.ipynb>data table notebook</a>'\n",
              "            + ' to learn more about interactive tables.';\n",
              "          element.innerHTML = '';\n",
              "          dataTable['output_type'] = 'display_data';\n",
              "          await google.colab.output.renderOutput(dataTable, element);\n",
              "          const docLink = document.createElement('div');\n",
              "          docLink.innerHTML = docLinkHtml;\n",
              "          element.appendChild(docLink);\n",
              "        }\n",
              "      </script>\n",
              "    </div>\n",
              "  </div>\n",
              "  "
            ],
            "text/plain": [
              "   year  county_fips   inctot  mortamt1  avrg_age  ftotinc  foodstmp_1_freq  \\\n",
              "0  2000            1  24566.4     634.6      46.0  46912.7             93.6   \n",
              "1  2000            2  33842.9    1080.1      42.4  65021.9             95.3   \n",
              "2  2000            4  28331.7     814.7      45.3  52826.7             95.8   \n",
              "3  2000            5  22782.6     557.5      46.2  43941.3             92.5   \n",
              "4  2000            6  32245.0    1216.3      43.8  61455.3             95.7   \n",
              "\n",
              "   foodstmp_2_freq  sex_2_freq  sex_1_freq  ...  empstat_3.0_freq  \\\n",
              "0              6.4        54.0        46.0  ...              38.4   \n",
              "1              4.7        50.3        49.7  ...              25.2   \n",
              "2              4.2        52.1        47.9  ...              38.3   \n",
              "3              7.5        53.0        47.0  ...              37.8   \n",
              "4              4.3        52.0        48.0  ...              35.1   \n",
              "\n",
              "   empstat_2.0_freq  state_po  county_name  democrat  green  liberitarian  \\\n",
              "0               3.2       NaN          NaN       NaN    NaN           NaN   \n",
              "1               4.8       NaN          NaN       NaN    NaN           NaN   \n",
              "2               3.2       NaN          NaN       NaN    NaN           NaN   \n",
              "3               3.2       NaN          NaN       NaN    NaN           NaN   \n",
              "4               3.6       NaN          NaN       NaN    NaN           NaN   \n",
              "\n",
              "   other  republican  winner  \n",
              "0    NaN         NaN     NaN  \n",
              "1    NaN         NaN     NaN  \n",
              "2    NaN         NaN     NaN  \n",
              "3    NaN         NaN     NaN  \n",
              "4    NaN         NaN     NaN  \n",
              "\n",
              "[5 rows x 45 columns]"
            ]
          },
          "execution_count": 49,
          "metadata": {},
          "output_type": "execute_result"
        }
      ],
      "source": [
        "data.head()"
      ]
    },
    {
      "cell_type": "code",
      "execution_count": null,
      "metadata": {
        "colab": {
          "base_uri": "https://localhost:8080/",
          "height": 299
        },
        "id": "hU_yeVfTlxgN",
        "outputId": "cb16671f-f575-4e1c-89b2-96e6cfddc1cf"
      },
      "outputs": [
        {
          "data": {
            "text/html": [
              "\n",
              "  <div id=\"df-2c04d3a2-2af1-4069-9a87-2b3da4044c18\">\n",
              "    <div class=\"colab-df-container\">\n",
              "      <div>\n",
              "<style scoped>\n",
              "    .dataframe tbody tr th:only-of-type {\n",
              "        vertical-align: middle;\n",
              "    }\n",
              "\n",
              "    .dataframe tbody tr th {\n",
              "        vertical-align: top;\n",
              "    }\n",
              "\n",
              "    .dataframe thead th {\n",
              "        text-align: right;\n",
              "    }\n",
              "</style>\n",
              "<table border=\"1\" class=\"dataframe\">\n",
              "  <thead>\n",
              "    <tr style=\"text-align: right;\">\n",
              "      <th></th>\n",
              "      <th>year</th>\n",
              "      <th>county_fips</th>\n",
              "      <th>inctot</th>\n",
              "      <th>mortamt1</th>\n",
              "      <th>avrg_age</th>\n",
              "      <th>ftotinc</th>\n",
              "      <th>foodstmp_1_freq</th>\n",
              "      <th>foodstmp_2_freq</th>\n",
              "      <th>sex_2_freq</th>\n",
              "      <th>sex_1_freq</th>\n",
              "      <th>...</th>\n",
              "      <th>empstat_3.0_freq</th>\n",
              "      <th>empstat_2.0_freq</th>\n",
              "      <th>state_po</th>\n",
              "      <th>county_name</th>\n",
              "      <th>democrat</th>\n",
              "      <th>green</th>\n",
              "      <th>liberitarian</th>\n",
              "      <th>other</th>\n",
              "      <th>republican</th>\n",
              "      <th>winner</th>\n",
              "    </tr>\n",
              "  </thead>\n",
              "  <tbody>\n",
              "    <tr>\n",
              "      <th>7521</th>\n",
              "      <td>2020</td>\n",
              "      <td>55117</td>\n",
              "      <td>26884.0</td>\n",
              "      <td>704.0</td>\n",
              "      <td>50.3</td>\n",
              "      <td>52592.7</td>\n",
              "      <td>95.6</td>\n",
              "      <td>4.4</td>\n",
              "      <td>49.5</td>\n",
              "      <td>50.5</td>\n",
              "      <td>...</td>\n",
              "      <td>42.3</td>\n",
              "      <td>1.4</td>\n",
              "      <td>WI</td>\n",
              "      <td>SHEBOYGAN</td>\n",
              "      <td>27101.0</td>\n",
              "      <td>2.0</td>\n",
              "      <td>896.0</td>\n",
              "      <td>403.0</td>\n",
              "      <td>37609.0</td>\n",
              "      <td>1.0</td>\n",
              "    </tr>\n",
              "    <tr>\n",
              "      <th>7522</th>\n",
              "      <td>2020</td>\n",
              "      <td>55127</td>\n",
              "      <td>28065.5</td>\n",
              "      <td>846.0</td>\n",
              "      <td>49.0</td>\n",
              "      <td>63315.2</td>\n",
              "      <td>94.9</td>\n",
              "      <td>5.1</td>\n",
              "      <td>49.4</td>\n",
              "      <td>50.6</td>\n",
              "      <td>...</td>\n",
              "      <td>37.6</td>\n",
              "      <td>0.8</td>\n",
              "      <td>WI</td>\n",
              "      <td>WALWORTH</td>\n",
              "      <td>22789.0</td>\n",
              "      <td>15.0</td>\n",
              "      <td>641.0</td>\n",
              "      <td>304.0</td>\n",
              "      <td>33851.0</td>\n",
              "      <td>1.0</td>\n",
              "    </tr>\n",
              "    <tr>\n",
              "      <th>7523</th>\n",
              "      <td>2020</td>\n",
              "      <td>55133</td>\n",
              "      <td>38557.0</td>\n",
              "      <td>990.6</td>\n",
              "      <td>50.4</td>\n",
              "      <td>80433.1</td>\n",
              "      <td>95.9</td>\n",
              "      <td>4.1</td>\n",
              "      <td>52.8</td>\n",
              "      <td>47.2</td>\n",
              "      <td>...</td>\n",
              "      <td>37.3</td>\n",
              "      <td>2.0</td>\n",
              "      <td>WI</td>\n",
              "      <td>WAUKESHA</td>\n",
              "      <td>103906.0</td>\n",
              "      <td>54.0</td>\n",
              "      <td>3023.0</td>\n",
              "      <td>1364.0</td>\n",
              "      <td>159649.0</td>\n",
              "      <td>1.0</td>\n",
              "    </tr>\n",
              "    <tr>\n",
              "      <th>7524</th>\n",
              "      <td>2020</td>\n",
              "      <td>55139</td>\n",
              "      <td>25796.1</td>\n",
              "      <td>667.3</td>\n",
              "      <td>45.9</td>\n",
              "      <td>49219.4</td>\n",
              "      <td>93.5</td>\n",
              "      <td>6.5</td>\n",
              "      <td>47.9</td>\n",
              "      <td>52.1</td>\n",
              "      <td>...</td>\n",
              "      <td>41.5</td>\n",
              "      <td>1.6</td>\n",
              "      <td>WI</td>\n",
              "      <td>WINNEBAGO</td>\n",
              "      <td>44060.0</td>\n",
              "      <td>38.0</td>\n",
              "      <td>1629.0</td>\n",
              "      <td>509.0</td>\n",
              "      <td>47796.0</td>\n",
              "      <td>1.0</td>\n",
              "    </tr>\n",
              "    <tr>\n",
              "      <th>7525</th>\n",
              "      <td>2020</td>\n",
              "      <td>56000</td>\n",
              "      <td>28415.2</td>\n",
              "      <td>786.1</td>\n",
              "      <td>48.7</td>\n",
              "      <td>57943.3</td>\n",
              "      <td>94.9</td>\n",
              "      <td>5.1</td>\n",
              "      <td>49.7</td>\n",
              "      <td>50.3</td>\n",
              "      <td>...</td>\n",
              "      <td>37.9</td>\n",
              "      <td>2.8</td>\n",
              "      <td>NaN</td>\n",
              "      <td>NaN</td>\n",
              "      <td>NaN</td>\n",
              "      <td>NaN</td>\n",
              "      <td>NaN</td>\n",
              "      <td>NaN</td>\n",
              "      <td>NaN</td>\n",
              "      <td>NaN</td>\n",
              "    </tr>\n",
              "  </tbody>\n",
              "</table>\n",
              "<p>5 rows × 45 columns</p>\n",
              "</div>\n",
              "      <button class=\"colab-df-convert\" onclick=\"convertToInteractive('df-2c04d3a2-2af1-4069-9a87-2b3da4044c18')\"\n",
              "              title=\"Convert this dataframe to an interactive table.\"\n",
              "              style=\"display:none;\">\n",
              "        \n",
              "  <svg xmlns=\"http://www.w3.org/2000/svg\" height=\"24px\"viewBox=\"0 0 24 24\"\n",
              "       width=\"24px\">\n",
              "    <path d=\"M0 0h24v24H0V0z\" fill=\"none\"/>\n",
              "    <path d=\"M18.56 5.44l.94 2.06.94-2.06 2.06-.94-2.06-.94-.94-2.06-.94 2.06-2.06.94zm-11 1L8.5 8.5l.94-2.06 2.06-.94-2.06-.94L8.5 2.5l-.94 2.06-2.06.94zm10 10l.94 2.06.94-2.06 2.06-.94-2.06-.94-.94-2.06-.94 2.06-2.06.94z\"/><path d=\"M17.41 7.96l-1.37-1.37c-.4-.4-.92-.59-1.43-.59-.52 0-1.04.2-1.43.59L10.3 9.45l-7.72 7.72c-.78.78-.78 2.05 0 2.83L4 21.41c.39.39.9.59 1.41.59.51 0 1.02-.2 1.41-.59l7.78-7.78 2.81-2.81c.8-.78.8-2.07 0-2.86zM5.41 20L4 18.59l7.72-7.72 1.47 1.35L5.41 20z\"/>\n",
              "  </svg>\n",
              "      </button>\n",
              "      \n",
              "  <style>\n",
              "    .colab-df-container {\n",
              "      display:flex;\n",
              "      flex-wrap:wrap;\n",
              "      gap: 12px;\n",
              "    }\n",
              "\n",
              "    .colab-df-convert {\n",
              "      background-color: #E8F0FE;\n",
              "      border: none;\n",
              "      border-radius: 50%;\n",
              "      cursor: pointer;\n",
              "      display: none;\n",
              "      fill: #1967D2;\n",
              "      height: 32px;\n",
              "      padding: 0 0 0 0;\n",
              "      width: 32px;\n",
              "    }\n",
              "\n",
              "    .colab-df-convert:hover {\n",
              "      background-color: #E2EBFA;\n",
              "      box-shadow: 0px 1px 2px rgba(60, 64, 67, 0.3), 0px 1px 3px 1px rgba(60, 64, 67, 0.15);\n",
              "      fill: #174EA6;\n",
              "    }\n",
              "\n",
              "    [theme=dark] .colab-df-convert {\n",
              "      background-color: #3B4455;\n",
              "      fill: #D2E3FC;\n",
              "    }\n",
              "\n",
              "    [theme=dark] .colab-df-convert:hover {\n",
              "      background-color: #434B5C;\n",
              "      box-shadow: 0px 1px 3px 1px rgba(0, 0, 0, 0.15);\n",
              "      filter: drop-shadow(0px 1px 2px rgba(0, 0, 0, 0.3));\n",
              "      fill: #FFFFFF;\n",
              "    }\n",
              "  </style>\n",
              "\n",
              "      <script>\n",
              "        const buttonEl =\n",
              "          document.querySelector('#df-2c04d3a2-2af1-4069-9a87-2b3da4044c18 button.colab-df-convert');\n",
              "        buttonEl.style.display =\n",
              "          google.colab.kernel.accessAllowed ? 'block' : 'none';\n",
              "\n",
              "        async function convertToInteractive(key) {\n",
              "          const element = document.querySelector('#df-2c04d3a2-2af1-4069-9a87-2b3da4044c18');\n",
              "          const dataTable =\n",
              "            await google.colab.kernel.invokeFunction('convertToInteractive',\n",
              "                                                     [key], {});\n",
              "          if (!dataTable) return;\n",
              "\n",
              "          const docLinkHtml = 'Like what you see? Visit the ' +\n",
              "            '<a target=\"_blank\" href=https://colab.research.google.com/notebooks/data_table.ipynb>data table notebook</a>'\n",
              "            + ' to learn more about interactive tables.';\n",
              "          element.innerHTML = '';\n",
              "          dataTable['output_type'] = 'display_data';\n",
              "          await google.colab.output.renderOutput(dataTable, element);\n",
              "          const docLink = document.createElement('div');\n",
              "          docLink.innerHTML = docLinkHtml;\n",
              "          element.appendChild(docLink);\n",
              "        }\n",
              "      </script>\n",
              "    </div>\n",
              "  </div>\n",
              "  "
            ],
            "text/plain": [
              "      year  county_fips   inctot  mortamt1  avrg_age  ftotinc  \\\n",
              "7521  2020        55117  26884.0     704.0      50.3  52592.7   \n",
              "7522  2020        55127  28065.5     846.0      49.0  63315.2   \n",
              "7523  2020        55133  38557.0     990.6      50.4  80433.1   \n",
              "7524  2020        55139  25796.1     667.3      45.9  49219.4   \n",
              "7525  2020        56000  28415.2     786.1      48.7  57943.3   \n",
              "\n",
              "      foodstmp_1_freq  foodstmp_2_freq  sex_2_freq  sex_1_freq  ...  \\\n",
              "7521             95.6              4.4        49.5        50.5  ...   \n",
              "7522             94.9              5.1        49.4        50.6  ...   \n",
              "7523             95.9              4.1        52.8        47.2  ...   \n",
              "7524             93.5              6.5        47.9        52.1  ...   \n",
              "7525             94.9              5.1        49.7        50.3  ...   \n",
              "\n",
              "      empstat_3.0_freq  empstat_2.0_freq  state_po  county_name  democrat  \\\n",
              "7521              42.3               1.4        WI    SHEBOYGAN   27101.0   \n",
              "7522              37.6               0.8        WI     WALWORTH   22789.0   \n",
              "7523              37.3               2.0        WI     WAUKESHA  103906.0   \n",
              "7524              41.5               1.6        WI    WINNEBAGO   44060.0   \n",
              "7525              37.9               2.8       NaN          NaN       NaN   \n",
              "\n",
              "      green  liberitarian   other  republican  winner  \n",
              "7521    2.0         896.0   403.0     37609.0     1.0  \n",
              "7522   15.0         641.0   304.0     33851.0     1.0  \n",
              "7523   54.0        3023.0  1364.0    159649.0     1.0  \n",
              "7524   38.0        1629.0   509.0     47796.0     1.0  \n",
              "7525    NaN           NaN     NaN         NaN     NaN  \n",
              "\n",
              "[5 rows x 45 columns]"
            ]
          },
          "execution_count": 50,
          "metadata": {},
          "output_type": "execute_result"
        }
      ],
      "source": [
        "data.tail()"
      ]
    },
    {
      "cell_type": "code",
      "execution_count": null,
      "metadata": {
        "colab": {
          "base_uri": "https://localhost:8080/"
        },
        "id": "eltYmFbvlxix",
        "outputId": "bb0a1bc3-c317-42c8-fdf8-911744fef1d0"
      },
      "outputs": [
        {
          "name": "stdout",
          "output_type": "stream",
          "text": [
            "<class 'pandas.core.frame.DataFrame'>\n",
            "RangeIndex: 7526 entries, 0 to 7525\n",
            "Data columns (total 45 columns):\n",
            " #   Column                Non-Null Count  Dtype  \n",
            "---  ------                --------------  -----  \n",
            " 0   year                  7526 non-null   int64  \n",
            " 1   county_fips           7526 non-null   int64  \n",
            " 2   inctot                7526 non-null   float64\n",
            " 3   mortamt1              7526 non-null   float64\n",
            " 4   avrg_age              7526 non-null   float64\n",
            " 5   ftotinc               7526 non-null   float64\n",
            " 6   foodstmp_1_freq       7526 non-null   float64\n",
            " 7   foodstmp_2_freq       7526 non-null   float64\n",
            " 8   sex_2_freq            7526 non-null   float64\n",
            " 9   sex_1_freq            7526 non-null   float64\n",
            " 10  marst_5_freq          7526 non-null   float64\n",
            " 11  marst_6_freq          7526 non-null   float64\n",
            " 12  marst_1_freq          7526 non-null   float64\n",
            " 13  marst_4_freq          7526 non-null   float64\n",
            " 14  marst_3_freq          7526 non-null   float64\n",
            " 15  marst_2_freq          7526 non-null   float64\n",
            " 16  race_1_freq           7526 non-null   float64\n",
            " 17  race_2_freq           7526 non-null   float64\n",
            " 18  race_7_freq           7526 non-null   float64\n",
            " 19  race_8_freq           7526 non-null   float64\n",
            " 20  race_5_freq           7526 non-null   float64\n",
            " 21  race_6_freq           7526 non-null   float64\n",
            " 22  race_3_freq           7526 non-null   float64\n",
            " 23  race_4_freq           7526 non-null   float64\n",
            " 24  race_9_freq           7526 non-null   float64\n",
            " 25  ctz_stat_1_freq       7526 non-null   float64\n",
            " 26  ctz_stat_3_freq       7526 non-null   float64\n",
            " 27  ctz_stat_2_freq       7526 non-null   float64\n",
            " 28  lang_1_freq           7526 non-null   float64\n",
            " 29  lang_2_freq           7526 non-null   float64\n",
            " 30  educ_attain_2.0_freq  7526 non-null   float64\n",
            " 31  educ_attain_1.0_freq  7526 non-null   float64\n",
            " 32  educ_attain_3.0_freq  7526 non-null   float64\n",
            " 33  educ_attain_4.0_freq  7526 non-null   float64\n",
            " 34  empstat_1.0_freq      7526 non-null   float64\n",
            " 35  empstat_3.0_freq      7526 non-null   float64\n",
            " 36  empstat_2.0_freq      7526 non-null   float64\n",
            " 37  state_po              1670 non-null   object \n",
            " 38  county_name           1670 non-null   object \n",
            " 39  democrat              1670 non-null   float64\n",
            " 40  green                 1670 non-null   float64\n",
            " 41  liberitarian          1670 non-null   float64\n",
            " 42  other                 1670 non-null   float64\n",
            " 43  republican            1670 non-null   float64\n",
            " 44  winner                1670 non-null   float64\n",
            "dtypes: float64(41), int64(2), object(2)\n",
            "memory usage: 2.6+ MB\n"
          ]
        }
      ],
      "source": [
        "data.info()"
      ]
    },
    {
      "cell_type": "code",
      "execution_count": null,
      "metadata": {
        "colab": {
          "base_uri": "https://localhost:8080/"
        },
        "id": "Pwr09YMolxlJ",
        "outputId": "b3d66cb9-ff5a-4780-98a5-afbad2db6a60"
      },
      "outputs": [
        {
          "data": {
            "text/plain": [
              "year                       0\n",
              "county_fips                0\n",
              "inctot                     0\n",
              "mortamt1                   0\n",
              "avrg_age                   0\n",
              "ftotinc                    0\n",
              "foodstmp_1_freq            0\n",
              "foodstmp_2_freq            0\n",
              "sex_2_freq                 0\n",
              "sex_1_freq                 0\n",
              "marst_5_freq               0\n",
              "marst_6_freq               0\n",
              "marst_1_freq               0\n",
              "marst_4_freq               0\n",
              "marst_3_freq               0\n",
              "marst_2_freq               0\n",
              "race_1_freq                0\n",
              "race_2_freq                0\n",
              "race_7_freq                0\n",
              "race_8_freq                0\n",
              "race_5_freq                0\n",
              "race_6_freq                0\n",
              "race_3_freq                0\n",
              "race_4_freq                0\n",
              "race_9_freq                0\n",
              "ctz_stat_1_freq            0\n",
              "ctz_stat_3_freq            0\n",
              "ctz_stat_2_freq            0\n",
              "lang_1_freq                0\n",
              "lang_2_freq                0\n",
              "educ_attain_2.0_freq       0\n",
              "educ_attain_1.0_freq       0\n",
              "educ_attain_3.0_freq       0\n",
              "educ_attain_4.0_freq       0\n",
              "empstat_1.0_freq           0\n",
              "empstat_3.0_freq           0\n",
              "empstat_2.0_freq           0\n",
              "state_po                5856\n",
              "county_name             5856\n",
              "democrat                5856\n",
              "green                   5856\n",
              "liberitarian            5856\n",
              "other                   5856\n",
              "republican              5856\n",
              "winner                  5856\n",
              "dtype: int64"
            ]
          },
          "execution_count": 52,
          "metadata": {},
          "output_type": "execute_result"
        }
      ],
      "source": [
        "data.isnull().sum()"
      ]
    },
    {
      "cell_type": "code",
      "execution_count": null,
      "metadata": {
        "id": "yENb4rCDlxno"
      },
      "outputs": [],
      "source": [
        "data.dropna(inplace=True)"
      ]
    },
    {
      "cell_type": "code",
      "execution_count": null,
      "metadata": {
        "colab": {
          "base_uri": "https://localhost:8080/"
        },
        "id": "NcVTLznkmAg5",
        "outputId": "280d1bfc-b815-484e-e9ca-8db0e917cfd8"
      },
      "outputs": [
        {
          "data": {
            "text/plain": [
              "year                    0\n",
              "county_fips             0\n",
              "inctot                  0\n",
              "mortamt1                0\n",
              "avrg_age                0\n",
              "ftotinc                 0\n",
              "foodstmp_1_freq         0\n",
              "foodstmp_2_freq         0\n",
              "sex_2_freq              0\n",
              "sex_1_freq              0\n",
              "marst_5_freq            0\n",
              "marst_6_freq            0\n",
              "marst_1_freq            0\n",
              "marst_4_freq            0\n",
              "marst_3_freq            0\n",
              "marst_2_freq            0\n",
              "race_1_freq             0\n",
              "race_2_freq             0\n",
              "race_7_freq             0\n",
              "race_8_freq             0\n",
              "race_5_freq             0\n",
              "race_6_freq             0\n",
              "race_3_freq             0\n",
              "race_4_freq             0\n",
              "race_9_freq             0\n",
              "ctz_stat_1_freq         0\n",
              "ctz_stat_3_freq         0\n",
              "ctz_stat_2_freq         0\n",
              "lang_1_freq             0\n",
              "lang_2_freq             0\n",
              "educ_attain_2.0_freq    0\n",
              "educ_attain_1.0_freq    0\n",
              "educ_attain_3.0_freq    0\n",
              "educ_attain_4.0_freq    0\n",
              "empstat_1.0_freq        0\n",
              "empstat_3.0_freq        0\n",
              "empstat_2.0_freq        0\n",
              "state_po                0\n",
              "county_name             0\n",
              "democrat                0\n",
              "green                   0\n",
              "liberitarian            0\n",
              "other                   0\n",
              "republican              0\n",
              "winner                  0\n",
              "dtype: int64"
            ]
          },
          "execution_count": 54,
          "metadata": {},
          "output_type": "execute_result"
        }
      ],
      "source": [
        "data.isnull().sum()"
      ]
    },
    {
      "cell_type": "code",
      "execution_count": null,
      "metadata": {
        "colab": {
          "base_uri": "https://localhost:8080/"
        },
        "id": "Iz1wrsTHmAji",
        "outputId": "babb55d8-b830-44db-dbdd-843018c1d3e6"
      },
      "outputs": [
        {
          "name": "stdout",
          "output_type": "stream",
          "text": [
            "1529    48.6\n",
            "1530    47.1\n",
            "1531    48.2\n",
            "1532    47.2\n",
            "1533    40.6\n",
            "        ... \n",
            "7520    49.1\n",
            "7521    50.3\n",
            "7522    49.0\n",
            "7523    50.4\n",
            "7524    45.9\n",
            "Name: avrg_age, Length: 1670, dtype: float64\n"
          ]
        }
      ],
      "source": [
        "print(data.avrg_age)"
      ]
    },
    {
      "cell_type": "code",
      "execution_count": null,
      "metadata": {
        "colab": {
          "base_uri": "https://localhost:8080/"
        },
        "id": "Hdg_dolnmAl6",
        "outputId": "a46f7d2c-7584-45e6-ae07-26c68db542c9"
      },
      "outputs": [
        {
          "name": "stdout",
          "output_type": "stream",
          "text": [
            "1529    47.5\n",
            "1530    45.2\n",
            "1531    45.4\n",
            "1532    45.0\n",
            "1533    47.9\n",
            "        ... \n",
            "7520    48.7\n",
            "7521    50.5\n",
            "7522    50.6\n",
            "7523    47.2\n",
            "7524    52.1\n",
            "Name: sex_1_freq, Length: 1670, dtype: float64\n"
          ]
        }
      ],
      "source": [
        "print(data.sex_1_freq)"
      ]
    },
    {
      "cell_type": "code",
      "execution_count": null,
      "metadata": {
        "id": "hUwbv86ZmAoU"
      },
      "outputs": [],
      "source": [
        "x=data['avrg_age'].values\n",
        "y=data['sex_1_freq'].values"
      ]
    },
    {
      "cell_type": "code",
      "execution_count": null,
      "metadata": {
        "id": "EDQUAkPeoGsq"
      },
      "outputs": [],
      "source": [
        "from sklearn.model_selection import train_test_split\n",
        "X_train,X_test,Y_train,Y_test=train_test_split(x,y,test_size=0.33,random_state=42)"
      ]
    },
    {
      "cell_type": "code",
      "execution_count": null,
      "metadata": {
        "colab": {
          "base_uri": "https://localhost:8080/"
        },
        "id": "Ix6kP1dioGv5",
        "outputId": "ce1eb0a9-d155-4874-9095-df10962632f5"
      },
      "outputs": [
        {
          "name": "stdout",
          "output_type": "stream",
          "text": [
            "(1118,)\n",
            "(552,)\n",
            "(1118,)\n",
            "(552,)\n"
          ]
        }
      ],
      "source": [
        "print(X_train.shape)\n",
        "print(Y_test.shape)\n",
        "print(X_train.shape)\n",
        "print(Y_test.shape)"
      ]
    },
    {
      "cell_type": "code",
      "execution_count": null,
      "metadata": {
        "colab": {
          "background_save": true
        },
        "id": "bQD8v1PZoGzc",
        "outputId": "a7aac962-9d6f-457b-a165-5e360dcf7922"
      },
      "outputs": [
        {
          "data": {
            "image/png": "[encoded data removed]",
            "text/plain": [
              "<Figure size 640x480 with 1 Axes>"
            ]
          },
          "metadata": {},
          "output_type": "display_data"
        }
      ],
      "source": [
        "plt.scatter(x,y ,color=\"purple\",label=\"Scatter Plot\")\n",
        "plt.title('RESULT')\n",
        "plt.xlabel('avrg_age')\n",
        "plt.legend(loc=4)\n",
        "plt.show()"
      ]
    },
    {
      "cell_type": "code",
      "execution_count": null,
      "metadata": {
        "colab": {
          "base_uri": "https://localhost:8080/"
        },
        "id": "2m6bR6JPW80Y",
        "outputId": "3fb244fa-b008-4457-a2a7-498cee420a33"
      },
      "outputs": [
        {
          "output_type": "error",
          "ename": "NameError",
          "evalue": "ignored",
          "traceback": [
            "\u001b[0;31m---------------------------------------------------------------------------\u001b[0m",
            "\u001b[0;31mNameError\u001b[0m                                 Traceback (most recent call last)",
            "\u001b[0;32m<ipython-input-137-46a458a5944d>\u001b[0m in \u001b[0;36m<cell line: 1>\u001b[0;34m()\u001b[0m\n\u001b[0;32m----> 1\u001b[0;31m \u001b[0mprint\u001b[0m\u001b[0;34m(\u001b[0m\u001b[0;34m\"avrg_age {:.4f}\"\u001b[0m\u001b[0;34m.\u001b[0m\u001b[0mformat\u001b[0m\u001b[0;34m(\u001b[0m\u001b[0mlm\u001b[0m\u001b[0;34m.\u001b[0m\u001b[0mscore\u001b[0m\u001b[0;34m(\u001b[0m\u001b[0mx_train\u001b[0m\u001b[0;34m,\u001b[0m\u001b[0my_train\u001b[0m\u001b[0;34m)\u001b[0m\u001b[0;34m)\u001b[0m\u001b[0;34m)\u001b[0m\u001b[0;34m\u001b[0m\u001b[0;34m\u001b[0m\u001b[0m\n\u001b[0m\u001b[1;32m      2\u001b[0m \u001b[0mprint\u001b[0m\u001b[0;34m(\u001b[0m\u001b[0;34m\"sex_1_freq {:.4f}\"\u001b[0m\u001b[0;34m.\u001b[0m\u001b[0mformat\u001b[0m\u001b[0;34m(\u001b[0m\u001b[0mlm\u001b[0m\u001b[0;34m.\u001b[0m\u001b[0mscore\u001b[0m\u001b[0;34m(\u001b[0m\u001b[0mx_test\u001b[0m\u001b[0;34m,\u001b[0m\u001b[0my_test\u001b[0m\u001b[0;34m)\u001b[0m\u001b[0;34m)\u001b[0m\u001b[0;34m)\u001b[0m\u001b[0;34m\u001b[0m\u001b[0;34m\u001b[0m\u001b[0m\n",
            "\u001b[0;31mNameError\u001b[0m: name 'lm' is not defined"
          ]
        }
      ],
      "source": [
        "print(\"avrg_age {:.4f}\".format(lm.score(x_train,y_train)))\n",
        "print(\"sex_1_freq {:.4f}\".format(lm.score(x_test,y_test)))"
      ]
    }
  ],
  "metadata": {
    "colab": {
      "provenance": [],
      "toc_visible": true,
      "include_colab_link": true
    },
    "kernelspec": {
      "display_name": "Python 3",
      "name": "python3"
    },
    "language_info": {
      "name": "python"
    }
  },
  "nbformat": 4,
  "nbformat_minor": 0
}